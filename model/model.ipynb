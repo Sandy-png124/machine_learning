{
 "cells": [
  {
   "cell_type": "code",
   "execution_count": 1,
   "metadata": {},
   "outputs": [],
   "source": [
    "import pandas as pd"
   ]
  },
  {
   "cell_type": "code",
   "execution_count": 2,
   "metadata": {},
   "outputs": [],
   "source": [
    "import matplotlib.pyplot as plt\n",
    "from functools import reduce"
   ]
  },
  {
   "cell_type": "code",
   "execution_count": 3,
   "metadata": {},
   "outputs": [],
   "source": [
    "df = pd.read_csv('Fuel_Consumption_Ratings.csv',encoding= 'unicode_escape')"
   ]
  },
  {
   "cell_type": "code",
   "execution_count": 4,
   "metadata": {},
   "outputs": [
    {
     "data": {
      "text/html": [
       "<div>\n",
       "<style scoped>\n",
       "    .dataframe tbody tr th:only-of-type {\n",
       "        vertical-align: middle;\n",
       "    }\n",
       "\n",
       "    .dataframe tbody tr th {\n",
       "        vertical-align: top;\n",
       "    }\n",
       "\n",
       "    .dataframe thead th {\n",
       "        text-align: right;\n",
       "    }\n",
       "</style>\n",
       "<table border=\"1\" class=\"dataframe\">\n",
       "  <thead>\n",
       "    <tr style=\"text-align: right;\">\n",
       "      <th></th>\n",
       "      <th>Model Year</th>\n",
       "      <th>Make</th>\n",
       "      <th>Model</th>\n",
       "      <th>Vehicle Class</th>\n",
       "      <th>Engine Size(L)</th>\n",
       "      <th>Cylinders</th>\n",
       "      <th>Transmission</th>\n",
       "      <th>Fuel Type</th>\n",
       "      <th>Fuel Consumption (City (L/100 km)</th>\n",
       "      <th>Fuel Consumption(Hwy (L/100 km))</th>\n",
       "      <th>Fuel Consumption(Comb (L/100 km))</th>\n",
       "      <th>Fuel Consumption(Comb (mpg))</th>\n",
       "      <th>CO2 Emissions(g/km)</th>\n",
       "      <th>CO2 Rating</th>\n",
       "      <th>Smog Rating</th>\n",
       "    </tr>\n",
       "  </thead>\n",
       "  <tbody>\n",
       "    <tr>\n",
       "      <th>0</th>\n",
       "      <td>2022</td>\n",
       "      <td>Acura</td>\n",
       "      <td>ILX</td>\n",
       "      <td>Compact</td>\n",
       "      <td>2.4</td>\n",
       "      <td>4</td>\n",
       "      <td>AM8</td>\n",
       "      <td>Z</td>\n",
       "      <td>9.9</td>\n",
       "      <td>7.0</td>\n",
       "      <td>8.6</td>\n",
       "      <td>33</td>\n",
       "      <td>200</td>\n",
       "      <td>6</td>\n",
       "      <td>3</td>\n",
       "    </tr>\n",
       "    <tr>\n",
       "      <th>1</th>\n",
       "      <td>2022</td>\n",
       "      <td>Acura</td>\n",
       "      <td>MDX SH-AWD</td>\n",
       "      <td>SUV: Small</td>\n",
       "      <td>3.5</td>\n",
       "      <td>6</td>\n",
       "      <td>AS10</td>\n",
       "      <td>Z</td>\n",
       "      <td>12.6</td>\n",
       "      <td>9.4</td>\n",
       "      <td>11.2</td>\n",
       "      <td>25</td>\n",
       "      <td>263</td>\n",
       "      <td>4</td>\n",
       "      <td>5</td>\n",
       "    </tr>\n",
       "    <tr>\n",
       "      <th>2</th>\n",
       "      <td>2022</td>\n",
       "      <td>Acura</td>\n",
       "      <td>RDX SH-AWD</td>\n",
       "      <td>SUV: Small</td>\n",
       "      <td>2.0</td>\n",
       "      <td>4</td>\n",
       "      <td>AS10</td>\n",
       "      <td>Z</td>\n",
       "      <td>11.0</td>\n",
       "      <td>8.6</td>\n",
       "      <td>9.9</td>\n",
       "      <td>29</td>\n",
       "      <td>232</td>\n",
       "      <td>5</td>\n",
       "      <td>6</td>\n",
       "    </tr>\n",
       "    <tr>\n",
       "      <th>3</th>\n",
       "      <td>2022</td>\n",
       "      <td>Acura</td>\n",
       "      <td>RDX SH-AWD A-SPEC</td>\n",
       "      <td>SUV: Small</td>\n",
       "      <td>2.0</td>\n",
       "      <td>4</td>\n",
       "      <td>AS10</td>\n",
       "      <td>Z</td>\n",
       "      <td>11.3</td>\n",
       "      <td>9.1</td>\n",
       "      <td>10.3</td>\n",
       "      <td>27</td>\n",
       "      <td>242</td>\n",
       "      <td>5</td>\n",
       "      <td>6</td>\n",
       "    </tr>\n",
       "    <tr>\n",
       "      <th>4</th>\n",
       "      <td>2022</td>\n",
       "      <td>Acura</td>\n",
       "      <td>TLX SH-AWD</td>\n",
       "      <td>Compact</td>\n",
       "      <td>2.0</td>\n",
       "      <td>4</td>\n",
       "      <td>AS10</td>\n",
       "      <td>Z</td>\n",
       "      <td>11.2</td>\n",
       "      <td>8.0</td>\n",
       "      <td>9.8</td>\n",
       "      <td>29</td>\n",
       "      <td>230</td>\n",
       "      <td>5</td>\n",
       "      <td>7</td>\n",
       "    </tr>\n",
       "    <tr>\n",
       "      <th>...</th>\n",
       "      <td>...</td>\n",
       "      <td>...</td>\n",
       "      <td>...</td>\n",
       "      <td>...</td>\n",
       "      <td>...</td>\n",
       "      <td>...</td>\n",
       "      <td>...</td>\n",
       "      <td>...</td>\n",
       "      <td>...</td>\n",
       "      <td>...</td>\n",
       "      <td>...</td>\n",
       "      <td>...</td>\n",
       "      <td>...</td>\n",
       "      <td>...</td>\n",
       "      <td>...</td>\n",
       "    </tr>\n",
       "    <tr>\n",
       "      <th>941</th>\n",
       "      <td>2022</td>\n",
       "      <td>Volvo</td>\n",
       "      <td>XC40 T5 AWD</td>\n",
       "      <td>SUV: Small</td>\n",
       "      <td>2.0</td>\n",
       "      <td>4</td>\n",
       "      <td>AS8</td>\n",
       "      <td>Z</td>\n",
       "      <td>10.7</td>\n",
       "      <td>7.7</td>\n",
       "      <td>9.4</td>\n",
       "      <td>30</td>\n",
       "      <td>219</td>\n",
       "      <td>5</td>\n",
       "      <td>5</td>\n",
       "    </tr>\n",
       "    <tr>\n",
       "      <th>942</th>\n",
       "      <td>2022</td>\n",
       "      <td>Volvo</td>\n",
       "      <td>XC60 B5 AWD</td>\n",
       "      <td>SUV: Small</td>\n",
       "      <td>2.0</td>\n",
       "      <td>4</td>\n",
       "      <td>AS8</td>\n",
       "      <td>Z</td>\n",
       "      <td>10.5</td>\n",
       "      <td>8.1</td>\n",
       "      <td>9.4</td>\n",
       "      <td>30</td>\n",
       "      <td>219</td>\n",
       "      <td>5</td>\n",
       "      <td>5</td>\n",
       "    </tr>\n",
       "    <tr>\n",
       "      <th>943</th>\n",
       "      <td>2022</td>\n",
       "      <td>Volvo</td>\n",
       "      <td>XC60 B6 AWD</td>\n",
       "      <td>SUV: Small</td>\n",
       "      <td>2.0</td>\n",
       "      <td>4</td>\n",
       "      <td>AS8</td>\n",
       "      <td>Z</td>\n",
       "      <td>11.0</td>\n",
       "      <td>8.7</td>\n",
       "      <td>9.9</td>\n",
       "      <td>29</td>\n",
       "      <td>232</td>\n",
       "      <td>5</td>\n",
       "      <td>7</td>\n",
       "    </tr>\n",
       "    <tr>\n",
       "      <th>944</th>\n",
       "      <td>2022</td>\n",
       "      <td>Volvo</td>\n",
       "      <td>XC90 T5 AWD</td>\n",
       "      <td>SUV: Standard</td>\n",
       "      <td>2.0</td>\n",
       "      <td>4</td>\n",
       "      <td>AS8</td>\n",
       "      <td>Z</td>\n",
       "      <td>11.5</td>\n",
       "      <td>8.4</td>\n",
       "      <td>10.1</td>\n",
       "      <td>28</td>\n",
       "      <td>236</td>\n",
       "      <td>5</td>\n",
       "      <td>5</td>\n",
       "    </tr>\n",
       "    <tr>\n",
       "      <th>945</th>\n",
       "      <td>2022</td>\n",
       "      <td>Volvo</td>\n",
       "      <td>XC90 T6 AWD</td>\n",
       "      <td>SUV: Standard</td>\n",
       "      <td>2.0</td>\n",
       "      <td>4</td>\n",
       "      <td>AS8</td>\n",
       "      <td>Z</td>\n",
       "      <td>12.4</td>\n",
       "      <td>8.9</td>\n",
       "      <td>10.8</td>\n",
       "      <td>26</td>\n",
       "      <td>252</td>\n",
       "      <td>5</td>\n",
       "      <td>7</td>\n",
       "    </tr>\n",
       "  </tbody>\n",
       "</table>\n",
       "<p>946 rows × 15 columns</p>\n",
       "</div>"
      ],
      "text/plain": [
       "     Model Year   Make              Model  Vehicle Class  Engine Size(L)  \\\n",
       "0          2022  Acura                ILX        Compact             2.4   \n",
       "1          2022  Acura         MDX SH-AWD     SUV: Small             3.5   \n",
       "2          2022  Acura         RDX SH-AWD     SUV: Small             2.0   \n",
       "3          2022  Acura  RDX SH-AWD A-SPEC     SUV: Small             2.0   \n",
       "4          2022  Acura         TLX SH-AWD        Compact             2.0   \n",
       "..          ...    ...                ...            ...             ...   \n",
       "941        2022  Volvo        XC40 T5 AWD     SUV: Small             2.0   \n",
       "942        2022  Volvo        XC60 B5 AWD     SUV: Small             2.0   \n",
       "943        2022  Volvo        XC60 B6 AWD     SUV: Small             2.0   \n",
       "944        2022  Volvo        XC90 T5 AWD  SUV: Standard             2.0   \n",
       "945        2022  Volvo        XC90 T6 AWD  SUV: Standard             2.0   \n",
       "\n",
       "     Cylinders Transmission Fuel Type  Fuel Consumption (City (L/100 km)  \\\n",
       "0            4          AM8         Z                                9.9   \n",
       "1            6         AS10         Z                               12.6   \n",
       "2            4         AS10         Z                               11.0   \n",
       "3            4         AS10         Z                               11.3   \n",
       "4            4         AS10         Z                               11.2   \n",
       "..         ...          ...       ...                                ...   \n",
       "941          4          AS8         Z                               10.7   \n",
       "942          4          AS8         Z                               10.5   \n",
       "943          4          AS8         Z                               11.0   \n",
       "944          4          AS8         Z                               11.5   \n",
       "945          4          AS8         Z                               12.4   \n",
       "\n",
       "     Fuel Consumption(Hwy (L/100 km))  Fuel Consumption(Comb (L/100 km))  \\\n",
       "0                                 7.0                                8.6   \n",
       "1                                 9.4                               11.2   \n",
       "2                                 8.6                                9.9   \n",
       "3                                 9.1                               10.3   \n",
       "4                                 8.0                                9.8   \n",
       "..                                ...                                ...   \n",
       "941                               7.7                                9.4   \n",
       "942                               8.1                                9.4   \n",
       "943                               8.7                                9.9   \n",
       "944                               8.4                               10.1   \n",
       "945                               8.9                               10.8   \n",
       "\n",
       "     Fuel Consumption(Comb (mpg))  CO2 Emissions(g/km)  CO2 Rating  \\\n",
       "0                              33                  200           6   \n",
       "1                              25                  263           4   \n",
       "2                              29                  232           5   \n",
       "3                              27                  242           5   \n",
       "4                              29                  230           5   \n",
       "..                            ...                  ...         ...   \n",
       "941                            30                  219           5   \n",
       "942                            30                  219           5   \n",
       "943                            29                  232           5   \n",
       "944                            28                  236           5   \n",
       "945                            26                  252           5   \n",
       "\n",
       "     Smog Rating  \n",
       "0              3  \n",
       "1              5  \n",
       "2              6  \n",
       "3              6  \n",
       "4              7  \n",
       "..           ...  \n",
       "941            5  \n",
       "942            5  \n",
       "943            7  \n",
       "944            5  \n",
       "945            7  \n",
       "\n",
       "[946 rows x 15 columns]"
      ]
     },
     "execution_count": 4,
     "metadata": {},
     "output_type": "execute_result"
    }
   ],
   "source": [
    "df"
   ]
  },
  {
   "cell_type": "code",
   "execution_count": 5,
   "metadata": {},
   "outputs": [
    {
     "data": {
      "text/plain": [
       "Model Year                             int64\n",
       "Make                                  object\n",
       "Model                                 object\n",
       "Vehicle Class                         object\n",
       "Engine Size(L)                       float64\n",
       "Cylinders                              int64\n",
       "Transmission                          object\n",
       "Fuel Type                             object\n",
       "Fuel Consumption (City (L/100 km)    float64\n",
       "Fuel Consumption(Hwy (L/100 km))     float64\n",
       "Fuel Consumption(Comb (L/100 km))    float64\n",
       "Fuel Consumption(Comb (mpg))           int64\n",
       "CO2 Emissions(g/km)                    int64\n",
       "CO2 Rating                             int64\n",
       "Smog Rating                            int64\n",
       "dtype: object"
      ]
     },
     "execution_count": 5,
     "metadata": {},
     "output_type": "execute_result"
    }
   ],
   "source": [
    "df.dtypes"
   ]
  },
  {
   "cell_type": "code",
   "execution_count": 6,
   "metadata": {},
   "outputs": [
    {
     "data": {
      "text/plain": [
       "Model Year                           0\n",
       "Make                                 0\n",
       "Model                                0\n",
       "Vehicle Class                        0\n",
       "Engine Size(L)                       0\n",
       "Cylinders                            0\n",
       "Transmission                         0\n",
       "Fuel Type                            0\n",
       "Fuel Consumption (City (L/100 km)    0\n",
       "Fuel Consumption(Hwy (L/100 km))     0\n",
       "Fuel Consumption(Comb (L/100 km))    0\n",
       "Fuel Consumption(Comb (mpg))         0\n",
       "CO2 Emissions(g/km)                  0\n",
       "CO2 Rating                           0\n",
       "Smog Rating                          0\n",
       "dtype: int64"
      ]
     },
     "execution_count": 6,
     "metadata": {},
     "output_type": "execute_result"
    }
   ],
   "source": [
    "df.isnull().sum()"
   ]
  },
  {
   "cell_type": "code",
   "execution_count": 7,
   "metadata": {},
   "outputs": [
    {
     "name": "stdout",
     "output_type": "stream",
     "text": [
      "<class 'pandas.core.frame.DataFrame'>\n",
      "RangeIndex: 946 entries, 0 to 945\n",
      "Data columns (total 15 columns):\n",
      " #   Column                             Non-Null Count  Dtype  \n",
      "---  ------                             --------------  -----  \n",
      " 0   Model Year                         946 non-null    int64  \n",
      " 1   Make                               946 non-null    object \n",
      " 2   Model                              946 non-null    object \n",
      " 3   Vehicle Class                      946 non-null    object \n",
      " 4   Engine Size(L)                     946 non-null    float64\n",
      " 5   Cylinders                          946 non-null    int64  \n",
      " 6   Transmission                       946 non-null    object \n",
      " 7   Fuel Type                          946 non-null    object \n",
      " 8   Fuel Consumption (City (L/100 km)  946 non-null    float64\n",
      " 9   Fuel Consumption(Hwy (L/100 km))   946 non-null    float64\n",
      " 10  Fuel Consumption(Comb (L/100 km))  946 non-null    float64\n",
      " 11  Fuel Consumption(Comb (mpg))       946 non-null    int64  \n",
      " 12  CO2 Emissions(g/km)                946 non-null    int64  \n",
      " 13  CO2 Rating                         946 non-null    int64  \n",
      " 14  Smog Rating                        946 non-null    int64  \n",
      "dtypes: float64(4), int64(6), object(5)\n",
      "memory usage: 111.0+ KB\n"
     ]
    }
   ],
   "source": [
    "df.info()"
   ]
  },
  {
   "cell_type": "code",
   "execution_count": 8,
   "metadata": {},
   "outputs": [
    {
     "data": {
      "text/plain": [
       "array([2022], dtype=int64)"
      ]
     },
     "execution_count": 8,
     "metadata": {},
     "output_type": "execute_result"
    }
   ],
   "source": [
    "df['Model Year'].unique()"
   ]
  },
  {
   "cell_type": "code",
   "execution_count": 9,
   "metadata": {},
   "outputs": [
    {
     "data": {
      "text/plain": [
       "array(['Acura', 'Alfa Romeo', 'Aston Martin', 'Audi', 'Bentley', 'BMW',\n",
       "       'Bugatti', 'Buick', 'Cadillac', 'Chevrolet', 'Chrysler', 'Dodge',\n",
       "       'FIAT', 'Ford', 'Genesis', 'GMC', 'Honda', 'Hyundai', 'Infiniti',\n",
       "       'Jaguar', 'Jeep', 'Kia', 'Lamborghini', 'Land Rover', 'Lexus',\n",
       "       'Lincoln', 'Maserati', 'Mazda', 'Mercedes-Benz', 'MINI',\n",
       "       'Mitsubishi', 'Nissan', 'Porsche', 'Ram', 'Rolls-Royce', 'Subaru',\n",
       "       'Toyota', 'Volkswagen', 'Volvo'], dtype=object)"
      ]
     },
     "execution_count": 9,
     "metadata": {},
     "output_type": "execute_result"
    }
   ],
   "source": [
    "df['Make'].unique()"
   ]
  },
  {
   "cell_type": "code",
   "execution_count": 10,
   "metadata": {},
   "outputs": [
    {
     "data": {
      "text/plain": [
       "array(['ILX', 'MDX SH-AWD', 'RDX SH-AWD', 'RDX SH-AWD A-SPEC',\n",
       "       'TLX SH-AWD', 'TLX SH-AWD A-SPEC', 'TLX Type S',\n",
       "       'TLX Type S (Performance Tire)', 'Giulia', 'Giulia AWD',\n",
       "       'Giulia Quadrifoglio', 'Stelvio', 'Stelvio AWD',\n",
       "       'Stelvio AWD Quadrifoglio', 'DB11 V8', 'DB11 V12', 'DBS V12',\n",
       "       'DBX V8', 'Vantage V8', 'A3 Sedan 40 TFSI quattro',\n",
       "       'A4 Sedan 40 TFSI quattro', 'A4 Sedan 45 TFSI quattro',\n",
       "       'A4 allroad 45 TFSI quattro', 'A5 Cabriolet 45 TFSI quattro',\n",
       "       'A5 Coupe 45 TFSI quattro', 'A5 Sportback 45 TFSI quattro',\n",
       "       'A6 Sedan 45 TFSI quattro', 'A6 Sedan 55 TFSI quattro',\n",
       "       'A6 allroad 55 TFSI quattro', 'A7 Sportback 55 TFSI quattro',\n",
       "       'A8 L Sedan 55 TFSI quattro', 'Q3 40 TFSI quattro',\n",
       "       'Q3 45 TFSI quattro', 'Q5 40 TFSI quattro', 'Q5 45 TFSI quattro',\n",
       "       'Q5 Sportback 45 TFSI quattro', 'Q7 45 TFSI quattro',\n",
       "       'Q7 55 TFSI quattro', 'Q8 55 TFSI quattro', 'R8 Coupe Performance',\n",
       "       'R8 Coupe Performance quattro', 'R8 Spyder Performance',\n",
       "       'R8 Spyder Performance quattro', 'RS 5 Coupe quattro',\n",
       "       'RS 5 Sportback quattro', 'RS 6 Avant quattro',\n",
       "       'RS 7 Sportback quattro', 'RS Q8 quattro', 'S3 Sedan quattro',\n",
       "       'S4 Sedan quattro', 'S5 Cabriolet quattro', 'S5 Coupe quattro',\n",
       "       'S5 Sportback quattro', 'S6 Sedan quattro', 'S7 Sportback quattro',\n",
       "       'S8 Sedan quattro', 'SQ5 quattro', 'SQ5 Sportback quattro',\n",
       "       'SQ7 quattro', 'SQ8 quattro', 'TT Coupe 45 TFSI quattro',\n",
       "       'TT Roadster 45 TFSI quattro', 'TT RS Coupe quattro',\n",
       "       'TTS Coupe quattro', 'Bentayga', 'Bentayga Speed',\n",
       "       'Continental GT', 'Continental GT Speed',\n",
       "       'Continental GT Convertible', 'Continental GT Convertible Speed',\n",
       "       'Flying Spur', '330i xDrive Sedan', '430i xDrive Cabriolet',\n",
       "       '430i xDrive Coupe', '530i xDrive Sedan', '540i xDrive Sedan',\n",
       "       '750i xDrive Sedan', '750Li xDrive Sedan', 'Alpina B7',\n",
       "       'Alpina B8 Gran Coupe', 'Alpina XB7', 'M235i xDrive Gran Coupe',\n",
       "       'M240i xDrive Coupe', 'M3 Sedan', 'M3 Competition Sedan',\n",
       "       'M3 Competition Sedan M xDrive', 'M340i xDrive Sedan',\n",
       "       'M4 Competition Cabriolet M xDrive', 'M4 Coupe',\n",
       "       'M4 Competition Coupe', 'M4 Competition Coupe M xDrive',\n",
       "       'M440i xDrive Cabriolet', 'M440i xDrive Coupe',\n",
       "       'M440i xDrive Gran Coupe', 'M5 Sedan', 'M5 Competition', 'M5 CS',\n",
       "       'M550i xDrive Sedan', 'M760i xDrive Sedan', 'M8 Cabriolet',\n",
       "       'M8 Cabriolet Competition', 'M8 Coupe', 'M8 Coupe Competition',\n",
       "       'M8 Gran Coupe', 'M8 Gran Coupe Competition',\n",
       "       'M850i xDrive Cabriolet', 'M850i xDrive Coupe',\n",
       "       'M850i xDrive Gran Coupe', 'X1 xDrive28i', 'X2 xDrive28i',\n",
       "       'X2 M35i', 'X3 xDrive30i', 'X3 M', 'X3 M Competition', 'X3 M40i',\n",
       "       'X4 xDrive30i', 'X4 M', 'X4 M Competition', 'X4 M40i',\n",
       "       'X5 xDrive40i', 'X5 M', 'X5 M Competition', 'X5 M50i',\n",
       "       'X6 xDrive40i', 'X6 M', 'X6 M Competition', 'X6 M50i',\n",
       "       'X7 xDrive40i', 'X7 M50i', 'Z4 sDrive30i', 'Z4 M40i', 'Chiron',\n",
       "       'Chiron Pur Sport', 'Chiron Super Sport', 'Enclave', 'Enclave AWD',\n",
       "       'Encore', 'Encore AWD', 'Encore GX', 'Encore GX AWD', 'Envision',\n",
       "       'Envision AWD', 'CT4', 'CT4 AWD', 'CT4-V', 'CT4-V AWD',\n",
       "       'CT4-V Blackwing', 'CT5', 'CT5 AWD', 'CT5-V', 'CT5-V AWD',\n",
       "       'CT5-V Blackwing', 'Escalade 4WD', 'Escalade 4WD (No Stop-Start)',\n",
       "       'XT4', 'XT4 AWD', 'XT5', 'XT5 AWD', 'XT6 AWD', 'Blazer',\n",
       "       'Blazer AWD', 'Camaro', 'Camaro SS', 'Camaro ZL1', 'Colorado',\n",
       "       'Colorado 4WD', 'Colorado ZR2 4WD', 'Corvette', 'Equinox',\n",
       "       'Equinox AWD', 'Malibu', 'Silverado', 'Silverado FFV',\n",
       "       'Silverado 4WD', 'Silverado 4WD Mud Terrain Tire',\n",
       "       'Silverado 4WD (With Sport Mode)', 'Silverado 4WD FFV',\n",
       "       'Silverado 4WD Mud Terrain Tire FFV', 'Silverado 4WD (No DFM)',\n",
       "       'Silverado 4WD (No Stop-Start)',\n",
       "       'Silverado 4WD Mud Terrain Tire (No Stop-Start)',\n",
       "       'Silverado 4WD Mud Terrain Tire (No DFM)',\n",
       "       'Silverado 4WD Custom Trail Boss', 'Silverado 4WD ZR2', 'Spark',\n",
       "       'Suburban', 'Suburban (No Stop-Start)', 'Suburban 4WD',\n",
       "       'Suburban 4WD (No Stop-Start)', 'Tahoe', 'Tahoe (No Stop-Start)',\n",
       "       'Tahoe 4WD', 'Tahoe 4WD (No Stop-Start)', 'Trailblazer',\n",
       "       'Trailblazer AWD', 'Traverse', 'Traverse AWD', 'Trax', 'Trax AWD',\n",
       "       '300', '300 AWD', 'Grand Caravan', 'Pacifica', 'Pacifica AWD',\n",
       "       'Challenger', 'Challenger (MDS)', 'Challenger AWD',\n",
       "       'Challenger Widebody (MDS)', 'Challenger Widebody',\n",
       "       'Challenger SRT Hellcat', 'Challenger SRT Hellcat Widebody',\n",
       "       'Charger', 'Charger (MDS)', 'Charger AWD',\n",
       "       'Charger Widebody (MDS)', 'Charger SRT Hellcat Widebody',\n",
       "       'Durango AWD', 'Durango AWD SRT', '500X AWD', 'Bronco 4WD',\n",
       "       'Bronco Badlands 4WD', 'Bronco Black Diamond 4WD',\n",
       "       'Bronco Sasquatch 4WD', 'Bronco Sport 4WD', 'EcoSport AWD',\n",
       "       'Edge AWD', 'Escape', 'Escape AWD', 'Escape Hybrid',\n",
       "       'Escape Hybrid AWD', 'Expedition 4X4',\n",
       "       'Expedition 4X4 (Without Stop-Start)', 'Expedition Timberline 4X4',\n",
       "       'Expedition Timberline 4X4 (Without Stop-Start)', 'Explorer AWD',\n",
       "       'Explorer AWD (Without Stop-Start)', 'Explorer Timberline AWD',\n",
       "       'Explorer Timberline AWD (Without Stop-Start)',\n",
       "       'Explorer Hybrid AWD', 'F-150', 'F-150 (Without Stop-Start)',\n",
       "       'F-150 FFV', 'F-150 FFV (Without Stop-Start)', 'F-150 4X4',\n",
       "       'F-150 4X4 FFV', 'F-150 4X4 (Without Stop-Start)',\n",
       "       'F-150 4X4 FFV (Without Stop-Start)', 'F-150 Raptor 4X4',\n",
       "       'F-150 Raptor 4X4 (Without Stop-Start)', 'F-150 Raptor 37 4X4',\n",
       "       'F-150 Raptor 37 4X4 (Without Stop-Start)', 'F-150 Tremor 4X4',\n",
       "       'F-150 Tremor 4X4 (Without Stop-Start)', 'F-150 Hybrid',\n",
       "       'F-150 Hybrid 4X4', 'GT', 'Maverick AWD', 'Maverick Hybrid',\n",
       "       'Mustang', 'Mustang (High Performance)', 'Mustang Convertible',\n",
       "       'Mustang Convertible (High Performance)', 'Mustang Mach 1',\n",
       "       'Ranger 4WD', 'Ranger 4WD (Without Stop-Start)',\n",
       "       'Ranger 4WD Tremor', 'Shelby GT500 Mustang', 'Transit Connect Van',\n",
       "       'Transit Connect Van FFV', 'Transit Connect Wagon LWB',\n",
       "       'Transit Connect Wagon LWB FFV', 'G70 AWD', 'G80 AWD', 'G90 AWD',\n",
       "       'GV70 AWD', 'GV80 AWD', 'Acadia', 'Acadia AWD', 'Canyon',\n",
       "       'Canyon 4WD', 'Sierra', 'Sierra FFV', 'Sierra 4WD',\n",
       "       'Sierra 4WD Mud Terrain Tire', 'Sierra 4WD FFV',\n",
       "       'Sierra 4WD Mud Terrain Tire FFV', 'Sierra 4WD (No DFM)',\n",
       "       'Sierra 4WD (With Sport Mode)', 'Sierra 4WD (No Stop-Start)',\n",
       "       'Sierra 4WD Mud Terrain Tire (No DFM)',\n",
       "       'Sierra 4WD Mud Terrain Tire (No Stop-Start)', 'Terrain',\n",
       "       'Terrain AWD', 'Yukon', 'Yukon (No Stop-Start)', 'Yukon 4WD',\n",
       "       'Yukon 4WD (No Stop-Start)', 'Yukon XL',\n",
       "       'Yukon XL (No Stop-Start)', 'Yukon XL 4WD',\n",
       "       'Yukon XL 4WD (No Stop-Start)', 'Accord', 'Accord Sport/Touring',\n",
       "       'Accord Hybrid', 'Accord Hybrid Sport/Touring', 'Civic Hatchback',\n",
       "       'Civic Sedan', 'Civic Sedan Si', 'CR-V', 'CR-V AWD', 'HR-V',\n",
       "       'HR-V AWD', 'Odyssey', 'Passport AWD', 'Pilot AWD',\n",
       "       'Pilot AWD TrailSport', 'Ridgeline AWD', 'Elantra',\n",
       "       'Elantra (ISG)', 'Elantra N', 'Elantra Hybrid Blue', 'IONIQ',\n",
       "       'IONIQ Blue', 'Kona', 'Kona N', 'Kona AWD', 'Palisade AWD',\n",
       "       'Santa Cruz AWD', 'Santa Fe AWD', 'Santa Fe Hybrid', 'Sonata',\n",
       "       'Sonata Hybrid', 'Tucson', 'Tucson AWD', 'Tucson Hybrid',\n",
       "       'Veloster N', 'Venue', 'Q50 AWD', 'Q50 AWD Red Sport', 'Q60 AWD',\n",
       "       'Q60 AWD Red Sport', 'QX50 AWD', 'QX55 AWD', 'QX60 AWD',\n",
       "       'QX80 4WD', 'E-PACE P250', 'E-PACE P300',\n",
       "       'F-TYPE P450 Convertible', 'F-TYPE P450 Convertible AWD',\n",
       "       'F-TYPE P450 Coupe', 'F-TYPE P450 Coupe AWD',\n",
       "       'F-TYPE R Convertible AWD', 'F-TYPE R Coupe AWD', 'Cherokee',\n",
       "       'Cherokee 4X4 Active Drive I', 'Cherokee 4X4 Active Drive Lock',\n",
       "       'Compass', 'Compass 4X4', 'Gladiator 4X4 EcoDiesel',\n",
       "       'Gladiator 4X4 Rubicon EcoDiesel', 'Gladiator 4X4',\n",
       "       'Grand Cherokee 4X4', 'Grand Cherokee L 4X4',\n",
       "       'Grand Cherokee WK 4X4', 'Grand Wagoneer 4X4', 'Renegade',\n",
       "       'Renegade 4X4', 'Renegade 4X4 Trailhawk', 'Wagoneer 4X4',\n",
       "       'Wrangler JL 4X4', 'Wrangler JL 4X4 eTorque',\n",
       "       'Wrangler JL Unlimited 4X4', 'Wrangler JL Unlimited 4X4 EcoDiesel',\n",
       "       'Wrangler JL Unlimited 4X4 Rubicon EcoDiesel',\n",
       "       'Wrangler JL Unlimited 4X4 eTorque', 'Carnival', 'Forte',\n",
       "       'Forte 5', 'K5', 'K5 AWD', 'Niro', 'Niro FE', 'Niro Touring',\n",
       "       'Rio', 'Seltos', 'Seltos AWD', 'Sorento AWD', 'Sorento Hybrid AWD',\n",
       "       'Soul', 'Sportage', 'Sportage AWD', 'Stinger AWD', 'Telluride AWD',\n",
       "       'Aventador Countach', 'Aventador Coupe', 'Aventador Roadster',\n",
       "       'Huracan evo Coupe', 'Huracan evo Coupe AWD', 'Huracan evo Spyder',\n",
       "       'Huracan evo Spyder AWD', 'Urus', 'Defender 90 P300',\n",
       "       'Defender 90 P400', 'Defender 90 5.0L V8', 'Defender 110 P300',\n",
       "       'Defender 110 P400', 'Defender 110 5.0L V8', 'Discovery P300',\n",
       "       'Discovery P360', 'Range Rover P360', 'Range Rover P400',\n",
       "       'Range Rover P525', 'Range Rover P525 LWB',\n",
       "       'Range Rover SVAutobiography', 'Range Rover SVAutobiography LWB',\n",
       "       'Range Rover Sport P360', 'Range Rover Sport HST P400',\n",
       "       'Range Rover Sport P525', 'Range Rover Sport P575 SVR',\n",
       "       'ES 250 AWD', 'ES 300h', 'ES 350', 'ES 350 F SPORT', 'GX 460',\n",
       "       'IS 300', 'IS 300 AWD', 'IS 350 AWD', 'IS 500', 'LC 500',\n",
       "       'LC 500 Convertible', 'LC 500h', 'LS 500 AWD', 'LS 500h AWD',\n",
       "       'LX 600', 'NX 250 AWD', 'NX 350 AWD', 'NX 350 AWD F SPORT',\n",
       "       'NX 350h AWD', 'RC 300 AWD', 'RC 350 AWD', 'RC F', 'RX 350 AWD',\n",
       "       'RX 350 L AWD', 'RX 450h AWD', 'RX 450h L AWD', 'UX 200',\n",
       "       'UX 250h AWD', 'Aviator AWD', 'Corsair AWD', 'Nautilus AWD',\n",
       "       'Navigator 4X4', 'Ghibli GT', 'Ghibli Modena', 'Ghibli Modena AWD',\n",
       "       'Ghibli Trofeo', 'Levante GT', 'Levante Modena',\n",
       "       'Levante Modena V8', 'Levante Trofeo', 'MC20', 'Quattroporte GT',\n",
       "       'Quattroporte Modena', 'Quattroporte Modena AWD',\n",
       "       'Quattroporte Trofeo', 'CX-3', 'CX-3 (SIL)', 'CX-3 4WD',\n",
       "       'CX-30 4WD', 'CX-30 Turbo 4WD', 'CX-5 4WD',\n",
       "       'CX-5 4WD (Cylinder Deactivation)', 'CX-5 Turbo 4WD', 'CX-9 4WD',\n",
       "       'Mazda3 4-Door', 'Mazda3 4-Door (SIL)', 'Mazda3 4-Door 4WD',\n",
       "       'Mazda3 4-Door Turbo 4WD', 'Mazda3 5-Door', 'Mazda3 5-Door (SIL)',\n",
       "       'Mazda3 5-Door 4WD', 'Mazda3 5-Door Turbo 4WD', 'MX-5',\n",
       "       'MX-5 (SIL)', 'A 220 4MATIC Sedan', 'A 250 4MATIC Hatch',\n",
       "       'AMG A 35 4MATIC Sedan', 'AMG A 35 4MATIC Hatch',\n",
       "       'AMG C 43 4MATIC Cabriolet', 'AMG C 43 4MATIC Coupe',\n",
       "       'AMG CLA 35 4MATIC Coupe', 'AMG CLA 45 4MATIC Coupe',\n",
       "       'AMG CLS 53 4MATIC+ Coupe', 'AMG E 53 4MATIC+ Sedan',\n",
       "       'AMG E 53 4MATIC+ Cabriolet', 'AMG E 53 4MATIC+ Coupe',\n",
       "       'AMG GLA 35 4MATIC SUV', 'AMG GLA 45 4MATIC SUV',\n",
       "       'AMG GLB 35 4MATIC SUV', 'AMG GLC 43 4MATIC SUV',\n",
       "       'AMG GLC 43 4MATIC Coupe', 'AMG GLE 53 4MATIC+ SUV',\n",
       "       'AMG GLE 53 4MATIC+ Coupe', 'AMG GT 53 4MATIC+ Coupe',\n",
       "       'C 300 4MATIC Cabriolet', 'C 300 4MATIC Coupe',\n",
       "       'CLA 250 4MATIC Coupe', 'CLS 450 4MATIC Coupe',\n",
       "       'E 350 4MATIC Sedan', 'E 450 4MATIC Sedan',\n",
       "       'E 450 4MATIC Cabriolet', 'E 450 4MATIC Coupe',\n",
       "       'E 450 4MATIC All-Terrain Wagon', 'GLA 250 4MATIC SUV',\n",
       "       'GLB 250 4MATIC SUV', 'GLC 300 4MATIC SUV', 'GLC 300 4MATIC Coupe',\n",
       "       'GLE 350 4MATIC SUV', 'GLE 450 4MATIC SUV', 'GLE 450 4MATIC Coupe',\n",
       "       'GLS 450 4MATIC SUV', 'Maybach S 580 4MATIC Sedan',\n",
       "       'Metris Cargo Van', 'Metris Cargo Van LWB', 'Metris Passenger Van',\n",
       "       'S 500 4MATIC SWB Sedan', 'S 580 4MATIC LWB Sedan',\n",
       "       'Cooper 3 Door', 'Cooper 5 Door', 'Cooper Convertible',\n",
       "       'Cooper Countryman ALL4', 'Cooper S 3 Door', 'Cooper S 5 Door',\n",
       "       'Cooper S Clubman ALL4', 'Cooper S Convertible',\n",
       "       'Cooper S Countryman ALL4', 'John Cooper Works 3 Door',\n",
       "       'John Cooper Works Clubman ALL4', 'John Cooper Works Convertible',\n",
       "       'John Cooper Works Countryman ALL4', 'Eclipse Cross 4WD', 'Mirage',\n",
       "       'Outlander 4WD', 'RVR', 'RVR 4WD', 'Altima AWD',\n",
       "       'Altima AWD SR/Platinum', 'Armada 4WD', 'Frontier', 'Frontier 4WD',\n",
       "       'Kicks', 'Maxima', 'Murano AWD', 'Pathfinder 4WD', 'Qashqai',\n",
       "       'Qashqai AWD', 'Rogue', 'Rogue AWD', 'Rogue AWD SL/Platinum',\n",
       "       'Sentra', 'Sentra SR', 'Versa', '718 Boxster', '718 Boxster T',\n",
       "       '718 Boxster S', '718 Boxster GTS 4.0', '718 Cayman',\n",
       "       '718 Cayman T', '718 Cayman S', '718 Cayman GT4',\n",
       "       '718 Cayman GTS 4.0', '718 Spyder', '911 Carrera',\n",
       "       '911 Carrera Cabriolet', '911 Carrera 4',\n",
       "       '911 Carrera 4 Cabriolet', '911 Carrera S',\n",
       "       '911 Carrera S Cabriolet', '911 Carrera 4S',\n",
       "       '911 Carrera 4S Cabriolet', '911 Carrera GTS',\n",
       "       '911 Carrera GTS Cabriolet', '911 Carrera 4 GTS',\n",
       "       '911 Carrera 4 GTS Cabriolet', '911 GT3', '911 GT3 Touring',\n",
       "       '911 Targa 4', '911 Targa 4S', '911 Targa 4 GTS', '911 Turbo',\n",
       "       '911 Turbo Cabriolet', '911 Turbo S', '911 Turbo S Cabriolet',\n",
       "       'Cayenne', 'Cayenne Coupe', 'Cayenne S', 'Cayenne S Coupe',\n",
       "       'Cayenne GTS', 'Cayenne GTS Coupe', 'Cayenne Turbo',\n",
       "       'Cayenne Turbo Coupe', 'Cayenne Turbo GT', 'Macan', 'Macan S',\n",
       "       'Macan GTS', 'Panamera', 'Panamera 4', 'Panamera 4 Executive',\n",
       "       'Panamera 4 ST', 'Panamera 4S', 'Panamera 4S Executive',\n",
       "       'Panamera 4S ST', 'Panamera GTS', 'Panamera GTS ST',\n",
       "       'Panamera Turbo S', 'Panamera Turbo S Executive',\n",
       "       'Panamera Turbo S ST', '1500 EcoDiesel', '1500 HFE EcoDiesel',\n",
       "       '1500 eTorque', '1500 HFE eTorque', '1500', '1500 4X4 EcoDiesel',\n",
       "       '1500 4X4 eTorque', '1500 4X4', '1500 4X4 TRX', '1500 Classic',\n",
       "       '1500 Classic 4X4', 'ProMaster City', 'Cullinan',\n",
       "       'Cullinan Black Badge', 'Ghost', 'Ghost Black Badge', 'Ghost EWB',\n",
       "       'Phantom', 'Phantom EWB', 'Ascent AWD', 'BRZ', 'Crosstrek AWD',\n",
       "       'Forester AWD', 'Forester Wilderness AWD', 'Impreza 4-Door AWD',\n",
       "       'Impreza 5-Door AWD', 'Legacy AWD', 'Outback AWD',\n",
       "       'Outback Wilderness AWD', 'WRX AWD', '4Runner 4WD',\n",
       "       '4Runner 4WD (Part-Time 4WD) ', 'C-HR', 'Camry LE/SE', 'Camry XSE',\n",
       "       'Camry XSE V6', 'Camry TRD', 'Camry AWD SE', 'Camry AWD XSE',\n",
       "       'Camry Hybrid LE', 'Camry Hybrid SE/XLE/XSE', 'Corolla',\n",
       "       'Corolla XLE', 'Corolla XSE', 'Corolla Apex Edition',\n",
       "       'Corolla Hatchback', 'Corolla Hybrid', 'Corolla Cross',\n",
       "       'Corolla Cross AWD', 'GR 86', 'GR Supra 2.0', 'GR Supra 3.0',\n",
       "       'Highlander AWD', 'Highlander Hybrid AWD',\n",
       "       'Highlander Hybrid AWD Limited/Platinum', 'Prius', 'Prius AWD',\n",
       "       'RAV4', 'RAV4 (Stop/Start)', 'RAV4 AWD', 'RAV4 AWD (Stop/Start)',\n",
       "       'RAV4 AWD LE', 'RAV4 AWD TRD Off-Road', 'RAV4 Hybrid AWD',\n",
       "       'Sequoia 4WD', 'Sienna', 'Sienna AWD', 'Tacoma 4WD',\n",
       "       'Tacoma 4WD D-Cab TRD Off-Road/PRO', 'Tundra', 'Tundra 4WD',\n",
       "       'Tundra 4WD TRD', 'Tundra Hybrid 4WD', 'Tundra Hybrid 4WD TRD PRO',\n",
       "       'Venza AWD', 'Atlas 4MOTION', 'Atlas Cross Sport 4MOTION',\n",
       "       'Golf GTI', 'Golf R', 'Jetta', 'Jetta SE/SEL', 'Jetta GLI',\n",
       "       'Passat', 'Taos', 'Taos 4MOTION', 'Tiguan 4MOTION',\n",
       "       'Tiguan R-Line 4MOTION', 'S60 B5', 'S60 B5 AWD', 'S90 B6 AWD',\n",
       "       'V60 T6 AWD', 'V60 CC T5 AWD', 'V90 CC B6 AWD', 'XC40 T4 AWD',\n",
       "       'XC40 T5 AWD', 'XC60 B5 AWD', 'XC60 B6 AWD', 'XC90 T5 AWD',\n",
       "       'XC90 T6 AWD'], dtype=object)"
      ]
     },
     "execution_count": 10,
     "metadata": {},
     "output_type": "execute_result"
    }
   ],
   "source": [
    "df['Model'].unique()"
   ]
  },
  {
   "cell_type": "code",
   "execution_count": 11,
   "metadata": {},
   "outputs": [
    {
     "data": {
      "text/plain": [
       "array(['Compact', 'SUV: Small', 'Mid-size', 'Minicompact',\n",
       "       'SUV: Standard', 'Two-seater', 'Subcompact',\n",
       "       'Station wagon: Small', 'Station wagon: Mid-size', 'Full-size',\n",
       "       'Pickup truck: Small', 'Pickup truck: Standard', 'Minivan',\n",
       "       'Special purpose vehicle'], dtype=object)"
      ]
     },
     "execution_count": 11,
     "metadata": {},
     "output_type": "execute_result"
    }
   ],
   "source": [
    "df['Vehicle Class'].unique()"
   ]
  },
  {
   "cell_type": "code",
   "execution_count": 12,
   "metadata": {},
   "outputs": [
    {
     "data": {
      "text/plain": [
       "array(['AM8', 'AS10', 'A8', 'A9', 'AM7', 'AS8', 'M6', 'AS6', 'AV', 'AS9',\n",
       "       'A10', 'A6', 'M5', 'M7', 'AV7', 'AV1', 'AM6', 'AS7', 'AV8', 'AV6',\n",
       "       'AV10', 'AS5', 'A7'], dtype=object)"
      ]
     },
     "execution_count": 12,
     "metadata": {},
     "output_type": "execute_result"
    }
   ],
   "source": [
    "df['Transmission'].unique()"
   ]
  },
  {
   "cell_type": "code",
   "execution_count": 13,
   "metadata": {},
   "outputs": [
    {
     "data": {
      "text/plain": [
       "array(['Z', 'X', 'D', 'E'], dtype=object)"
      ]
     },
     "execution_count": 13,
     "metadata": {},
     "output_type": "execute_result"
    }
   ],
   "source": [
    "df['Fuel Type'].unique()"
   ]
  },
  {
   "cell_type": "code",
   "execution_count": 14,
   "metadata": {},
   "outputs": [
    {
     "data": {
      "text/plain": [
       "array([ 6,  4,  5,  3,  7,  2,  1,  8,  9, 10], dtype=int64)"
      ]
     },
     "execution_count": 14,
     "metadata": {},
     "output_type": "execute_result"
    }
   ],
   "source": [
    "df['CO2 Rating'].unique()"
   ]
  },
  {
   "cell_type": "code",
   "execution_count": 15,
   "metadata": {},
   "outputs": [
    {
     "data": {
      "text/plain": [
       "5     266\n",
       "4     228\n",
       "3     189\n",
       "6     113\n",
       "7      71\n",
       "2      48\n",
       "9      13\n",
       "8      10\n",
       "1       7\n",
       "10      1\n",
       "Name: CO2 Rating, dtype: int64"
      ]
     },
     "execution_count": 15,
     "metadata": {},
     "output_type": "execute_result"
    }
   ],
   "source": [
    "df['CO2 Rating'].value_counts()"
   ]
  },
  {
   "cell_type": "code",
   "execution_count": 16,
   "metadata": {},
   "outputs": [],
   "source": [
    "import seaborn as sns"
   ]
  },
  {
   "cell_type": "code",
   "execution_count": 17,
   "metadata": {},
   "outputs": [
    {
     "name": "stderr",
     "output_type": "stream",
     "text": [
      "C:\\Users\\Admin\\AppData\\Local\\Temp\\ipykernel_5028\\3954835297.py:1: MatplotlibDeprecationWarning: The seaborn styles shipped by Matplotlib are deprecated since 3.6, as they no longer correspond to the styles shipped by seaborn. However, they will remain available as 'seaborn-v0_8-<style>'. Alternatively, directly use the seaborn API instead.\n",
      "  plt.style.use('seaborn')\n"
     ]
    },
    {
     "data": {
      "text/plain": [
       "<Axes: >"
      ]
     },
     "execution_count": 17,
     "metadata": {},
     "output_type": "execute_result"
    },
    {
     "data": {
      "image/png": "[encoded data removed]",
      "text/plain": [
       "<Figure size 800x550 with 1 Axes>"
      ]
     },
     "metadata": {},
     "output_type": "display_data"
    }
   ],
   "source": [
    "plt.style.use('seaborn')\n",
    "df['CO2 Rating'].hist(bins=20)      "
   ]
  },
  {
   "cell_type": "code",
   "execution_count": 18,
   "metadata": {},
   "outputs": [
    {
     "data": {
      "text/plain": [
       "Model Year                             int64\n",
       "Make                                  object\n",
       "Model                                 object\n",
       "Vehicle Class                         object\n",
       "Engine Size(L)                       float64\n",
       "Cylinders                              int64\n",
       "Transmission                          object\n",
       "Fuel Type                             object\n",
       "Fuel Consumption (City (L/100 km)    float64\n",
       "Fuel Consumption(Hwy (L/100 km))     float64\n",
       "Fuel Consumption(Comb (L/100 km))    float64\n",
       "Fuel Consumption(Comb (mpg))           int64\n",
       "CO2 Emissions(g/km)                    int64\n",
       "CO2 Rating                             int64\n",
       "Smog Rating                            int64\n",
       "dtype: object"
      ]
     },
     "execution_count": 18,
     "metadata": {},
     "output_type": "execute_result"
    }
   ],
   "source": [
    "df.dtypes"
   ]
  },
  {
   "cell_type": "code",
   "execution_count": 19,
   "metadata": {},
   "outputs": [],
   "source": [
    "plt.rcParams[\"figure.figsize\"] = (30,10)"
   ]
  },
  {
   "cell_type": "code",
   "execution_count": 20,
   "metadata": {},
   "outputs": [
    {
     "name": "stderr",
     "output_type": "stream",
     "text": [
      "C:\\Users\\Admin\\AppData\\Local\\Temp\\ipykernel_5028\\835488472.py:1: MatplotlibDeprecationWarning: The seaborn styles shipped by Matplotlib are deprecated since 3.6, as they no longer correspond to the styles shipped by seaborn. However, they will remain available as 'seaborn-v0_8-<style>'. Alternatively, directly use the seaborn API instead.\n",
      "  plt.style.use('seaborn')\n"
     ]
    },
    {
     "data": {
      "text/plain": [
       "<Axes: >"
      ]
     },
     "execution_count": 20,
     "metadata": {},
     "output_type": "execute_result"
    },
    {
     "data": {
      "image/png": "[encoded data removed]",
      "text/plain": [
       "<Figure size 800x550 with 1 Axes>"
      ]
     },
     "metadata": {},
     "output_type": "display_data"
    }
   ],
   "source": [
    "plt.style.use('seaborn')\n",
    "df['Fuel Type'].hist(bins=20)   "
   ]
  },
  {
   "cell_type": "code",
   "execution_count": 21,
   "metadata": {},
   "outputs": [
    {
     "name": "stderr",
     "output_type": "stream",
     "text": [
      "C:\\Users\\Admin\\AppData\\Local\\Temp\\ipykernel_5028\\3116889239.py:1: MatplotlibDeprecationWarning: The seaborn styles shipped by Matplotlib are deprecated since 3.6, as they no longer correspond to the styles shipped by seaborn. However, they will remain available as 'seaborn-v0_8-<style>'. Alternatively, directly use the seaborn API instead.\n",
      "  plt.style.use('seaborn')\n"
     ]
    },
    {
     "data": {
      "text/plain": [
       "<Axes: >"
      ]
     },
     "execution_count": 21,
     "metadata": {},
     "output_type": "execute_result"
    },
    {
     "data": {
      "image/png": "[encoded data removed]",
      "text/plain": [
       "<Figure size 800x550 with 1 Axes>"
      ]
     },
     "metadata": {},
     "output_type": "display_data"
    }
   ],
   "source": [
    "plt.style.use('seaborn')\n",
    "df['Transmission'].hist(bins=20)      "
   ]
  },
  {
   "cell_type": "code",
   "execution_count": 22,
   "metadata": {},
   "outputs": [
    {
     "name": "stdout",
     "output_type": "stream",
     "text": [
      "<class 'pandas.core.frame.DataFrame'>\n",
      "RangeIndex: 946 entries, 0 to 945\n",
      "Data columns (total 15 columns):\n",
      " #   Column                             Non-Null Count  Dtype  \n",
      "---  ------                             --------------  -----  \n",
      " 0   Model Year                         946 non-null    int64  \n",
      " 1   Make                               946 non-null    object \n",
      " 2   Model                              946 non-null    object \n",
      " 3   Vehicle Class                      946 non-null    object \n",
      " 4   Engine Size(L)                     946 non-null    float64\n",
      " 5   Cylinders                          946 non-null    int64  \n",
      " 6   Transmission                       946 non-null    object \n",
      " 7   Fuel Type                          946 non-null    object \n",
      " 8   Fuel Consumption (City (L/100 km)  946 non-null    float64\n",
      " 9   Fuel Consumption(Hwy (L/100 km))   946 non-null    float64\n",
      " 10  Fuel Consumption(Comb (L/100 km))  946 non-null    float64\n",
      " 11  Fuel Consumption(Comb (mpg))       946 non-null    int64  \n",
      " 12  CO2 Emissions(g/km)                946 non-null    int64  \n",
      " 13  CO2 Rating                         946 non-null    int64  \n",
      " 14  Smog Rating                        946 non-null    int64  \n",
      "dtypes: float64(4), int64(6), object(5)\n",
      "memory usage: 111.0+ KB\n"
     ]
    }
   ],
   "source": [
    "df.info()"
   ]
  },
  {
   "cell_type": "code",
   "execution_count": 23,
   "metadata": {},
   "outputs": [],
   "source": [
    "import seaborn as sns"
   ]
  },
  {
   "cell_type": "code",
   "execution_count": 24,
   "metadata": {},
   "outputs": [
    {
     "name": "stderr",
     "output_type": "stream",
     "text": [
      "C:\\Users\\Admin\\AppData\\Local\\Temp\\ipykernel_5028\\272774742.py:1: UserWarning: \n",
      "\n",
      "`distplot` is a deprecated function and will be removed in seaborn v0.14.0.\n",
      "\n",
      "Please adapt your code to use either `displot` (a figure-level function with\n",
      "similar flexibility) or `histplot` (an axes-level function for histograms).\n",
      "\n",
      "For a guide to updating your code to use the new functions, please see\n",
      "https://gist.github.com/mwaskom/de44147ed2974457ad6372750bbe5751\n",
      "\n",
      "  sns.distplot(df[\"Engine Size(L)\"])\n"
     ]
    },
    {
     "data": {
      "text/plain": [
       "0.9401048942707437"
      ]
     },
     "execution_count": 24,
     "metadata": {},
     "output_type": "execute_result"
    },
    {
     "data": {
      "image/png": "[encoded data removed]",
      "text/plain": [
       "<Figure size 800x550 with 1 Axes>"
      ]
     },
     "metadata": {},
     "output_type": "display_data"
    }
   ],
   "source": [
    "sns.distplot(df[\"Engine Size(L)\"])\n",
    "df['Engine Size(L)'].skew()"
   ]
  },
  {
   "cell_type": "code",
   "execution_count": 25,
   "metadata": {},
   "outputs": [
    {
     "name": "stderr",
     "output_type": "stream",
     "text": [
      "C:\\Users\\Admin\\AppData\\Local\\Temp\\ipykernel_5028\\3538470326.py:1: UserWarning: \n",
      "\n",
      "`distplot` is a deprecated function and will be removed in seaborn v0.14.0.\n",
      "\n",
      "Please adapt your code to use either `displot` (a figure-level function with\n",
      "similar flexibility) or `histplot` (an axes-level function for histograms).\n",
      "\n",
      "For a guide to updating your code to use the new functions, please see\n",
      "https://gist.github.com/mwaskom/de44147ed2974457ad6372750bbe5751\n",
      "\n",
      "  sns.distplot(df[\"Cylinders\"])\n"
     ]
    },
    {
     "data": {
      "text/plain": [
       "1.2500160742704411"
      ]
     },
     "execution_count": 25,
     "metadata": {},
     "output_type": "execute_result"
    },
    {
     "data": {
      "image/png": "[encoded data removed]",
      "text/plain": [
       "<Figure size 800x550 with 1 Axes>"
      ]
     },
     "metadata": {},
     "output_type": "display_data"
    }
   ],
   "source": [
    "sns.distplot(df[\"Cylinders\"])\n",
    "df['Cylinders'].skew()"
   ]
  },
  {
   "cell_type": "code",
   "execution_count": 26,
   "metadata": {},
   "outputs": [
    {
     "name": "stderr",
     "output_type": "stream",
     "text": [
      "C:\\Users\\Admin\\AppData\\Local\\Temp\\ipykernel_5028\\3981403908.py:1: UserWarning: \n",
      "\n",
      "`distplot` is a deprecated function and will be removed in seaborn v0.14.0.\n",
      "\n",
      "Please adapt your code to use either `displot` (a figure-level function with\n",
      "similar flexibility) or `histplot` (an axes-level function for histograms).\n",
      "\n",
      "For a guide to updating your code to use the new functions, please see\n",
      "https://gist.github.com/mwaskom/de44147ed2974457ad6372750bbe5751\n",
      "\n",
      "  sns.distplot(df[\"Fuel Consumption (City (L/100 km)\"])\n"
     ]
    },
    {
     "data": {
      "text/plain": [
       "0.7349594929301552"
      ]
     },
     "execution_count": 26,
     "metadata": {},
     "output_type": "execute_result"
    },
    {
     "data": {
      "image/png": "[encoded data removed]",
      "text/plain": [
       "<Figure size 800x550 with 1 Axes>"
      ]
     },
     "metadata": {},
     "output_type": "display_data"
    }
   ],
   "source": [
    "sns.distplot(df[\"Fuel Consumption (City (L/100 km)\"])\n",
    "df['Fuel Consumption (City (L/100 km)'].skew()"
   ]
  },
  {
   "cell_type": "code",
   "execution_count": 27,
   "metadata": {},
   "outputs": [
    {
     "name": "stderr",
     "output_type": "stream",
     "text": [
      "C:\\Users\\Admin\\AppData\\Local\\Temp\\ipykernel_5028\\3284923932.py:1: UserWarning: \n",
      "\n",
      "`distplot` is a deprecated function and will be removed in seaborn v0.14.0.\n",
      "\n",
      "Please adapt your code to use either `displot` (a figure-level function with\n",
      "similar flexibility) or `histplot` (an axes-level function for histograms).\n",
      "\n",
      "For a guide to updating your code to use the new functions, please see\n",
      "https://gist.github.com/mwaskom/de44147ed2974457ad6372750bbe5751\n",
      "\n",
      "  sns.distplot(df[\"Fuel Consumption(Hwy (L/100 km))\"])\n"
     ]
    },
    {
     "data": {
      "text/plain": [
       "0.8088800215202532"
      ]
     },
     "execution_count": 27,
     "metadata": {},
     "output_type": "execute_result"
    },
    {
     "data": {
      "image/png": "[encoded data removed]",
      "text/plain": [
       "<Figure size 800x550 with 1 Axes>"
      ]
     },
     "metadata": {},
     "output_type": "display_data"
    }
   ],
   "source": [
    "sns.distplot(df[\"Fuel Consumption(Hwy (L/100 km))\"])\n",
    "df['Fuel Consumption(Hwy (L/100 km))'].skew()"
   ]
  },
  {
   "cell_type": "code",
   "execution_count": 28,
   "metadata": {},
   "outputs": [
    {
     "name": "stderr",
     "output_type": "stream",
     "text": [
      "C:\\Users\\Admin\\AppData\\Local\\Temp\\ipykernel_5028\\1611723948.py:1: UserWarning: \n",
      "\n",
      "`distplot` is a deprecated function and will be removed in seaborn v0.14.0.\n",
      "\n",
      "Please adapt your code to use either `displot` (a figure-level function with\n",
      "similar flexibility) or `histplot` (an axes-level function for histograms).\n",
      "\n",
      "For a guide to updating your code to use the new functions, please see\n",
      "https://gist.github.com/mwaskom/de44147ed2974457ad6372750bbe5751\n",
      "\n",
      "  sns.distplot(df[\"Fuel Consumption(Comb (L/100 km))\"])\n"
     ]
    },
    {
     "data": {
      "text/plain": [
       "0.7217132371312829"
      ]
     },
     "execution_count": 28,
     "metadata": {},
     "output_type": "execute_result"
    },
    {
     "data": {
      "image/png": "[encoded data removed]",
      "text/plain": [
       "<Figure size 800x550 with 1 Axes>"
      ]
     },
     "metadata": {},
     "output_type": "display_data"
    }
   ],
   "source": [
    "sns.distplot(df[\"Fuel Consumption(Comb (L/100 km))\"])\n",
    "df['Fuel Consumption(Comb (L/100 km))'].skew()"
   ]
  },
  {
   "cell_type": "code",
   "execution_count": 29,
   "metadata": {},
   "outputs": [
    {
     "name": "stderr",
     "output_type": "stream",
     "text": [
      "C:\\Users\\Admin\\AppData\\Local\\Temp\\ipykernel_5028\\2244563029.py:1: UserWarning: \n",
      "\n",
      "`distplot` is a deprecated function and will be removed in seaborn v0.14.0.\n",
      "\n",
      "Please adapt your code to use either `displot` (a figure-level function with\n",
      "similar flexibility) or `histplot` (an axes-level function for histograms).\n",
      "\n",
      "For a guide to updating your code to use the new functions, please see\n",
      "https://gist.github.com/mwaskom/de44147ed2974457ad6372750bbe5751\n",
      "\n",
      "  sns.distplot(df[\"Fuel Consumption(Comb (mpg))\"])\n"
     ]
    },
    {
     "data": {
      "text/plain": [
       "1.449486744264081"
      ]
     },
     "execution_count": 29,
     "metadata": {},
     "output_type": "execute_result"
    },
    {
     "data": {
      "image/png": "[encoded data removed]",
      "text/plain": [
       "<Figure size 800x550 with 1 Axes>"
      ]
     },
     "metadata": {},
     "output_type": "display_data"
    }
   ],
   "source": [
    "sns.distplot(df[\"Fuel Consumption(Comb (mpg))\"])\n",
    "df['Fuel Consumption(Comb (mpg))'].skew()"
   ]
  },
  {
   "cell_type": "code",
   "execution_count": 30,
   "metadata": {},
   "outputs": [
    {
     "data": {
      "text/plain": [
       "Model Year                             int64\n",
       "Make                                  object\n",
       "Model                                 object\n",
       "Vehicle Class                         object\n",
       "Engine Size(L)                       float64\n",
       "Cylinders                              int64\n",
       "Transmission                          object\n",
       "Fuel Type                             object\n",
       "Fuel Consumption (City (L/100 km)    float64\n",
       "Fuel Consumption(Hwy (L/100 km))     float64\n",
       "Fuel Consumption(Comb (L/100 km))    float64\n",
       "Fuel Consumption(Comb (mpg))           int64\n",
       "CO2 Emissions(g/km)                    int64\n",
       "CO2 Rating                             int64\n",
       "Smog Rating                            int64\n",
       "dtype: object"
      ]
     },
     "execution_count": 30,
     "metadata": {},
     "output_type": "execute_result"
    }
   ],
   "source": [
    "df.dtypes"
   ]
  },
  {
   "cell_type": "code",
   "execution_count": 31,
   "metadata": {},
   "outputs": [],
   "source": [
    "# df['Make'].value_counts()"
   ]
  },
  {
   "cell_type": "code",
   "execution_count": 32,
   "metadata": {},
   "outputs": [
    {
     "data": {
      "text/plain": [
       "array(['Acura', 'Alfa Romeo', 'Aston Martin', 'Audi', 'Bentley', 'BMW',\n",
       "       'Bugatti', 'Buick', 'Cadillac', 'Chevrolet', 'Chrysler', 'Dodge',\n",
       "       'FIAT', 'Ford', 'Genesis', 'GMC', 'Honda', 'Hyundai', 'Infiniti',\n",
       "       'Jaguar', 'Jeep', 'Kia', 'Lamborghini', 'Land Rover', 'Lexus',\n",
       "       'Lincoln', 'Maserati', 'Mazda', 'Mercedes-Benz', 'MINI',\n",
       "       'Mitsubishi', 'Nissan', 'Porsche', 'Ram', 'Rolls-Royce', 'Subaru',\n",
       "       'Toyota', 'Volkswagen', 'Volvo'], dtype=object)"
      ]
     },
     "execution_count": 32,
     "metadata": {},
     "output_type": "execute_result"
    }
   ],
   "source": [
    "df['Make'].unique()"
   ]
  },
  {
   "cell_type": "code",
   "execution_count": 33,
   "metadata": {},
   "outputs": [],
   "source": [
    "df.loc[df['Make']=='Acura','Make'] = 0\n",
    "df.loc[df['Make']== 'Alfa Romeo','Make'] = 1\n",
    "df.loc[df['Make']=='Aston Martin','Make'] = 2\n",
    "df.loc[df['Make']== 'Audi','Make'] =3\n",
    "df.loc[df['Make']=='Bentley','Make'] = 4\n",
    "df.loc[df['Make']== 'BMW','Make'] =5\n",
    "df.loc[df['Make']=='Buick','Make'] = 6\n",
    "df.loc[df['Make']== 'Cadillac','Make'] =7\n",
    "df.loc[df['Make']=='Chevrolet','Make'] = 8\n",
    "df.loc[df['Make']== 'Chrysler','Make'] =9\n",
    "df.loc[df['Make']=='Dodge','Make'] = 10\n",
    "df.loc[df['Make']== 'Ford','Make'] =11\n",
    "df.loc[df['Make']=='Genesis','Make'] = 12\n",
    "df.loc[df['Make']== 'GMC','Make'] =13\n",
    "df.loc[df['Make']=='Honda','Make'] = 14\n",
    "df.loc[df['Make']== 'Hyundai','Make'] =15\n",
    "df.loc[df['Make']=='Infiniti','Make'] = 16\n",
    "df.loc[df['Make']== 'Jaguar','Make'] =17\n",
    "df.loc[df['Make']=='Jeep','Make'] = 18\n",
    "df.loc[df['Make']== 'Kia','Make'] =19\n",
    "df.loc[df['Make']=='Land Rover','Make'] = 20\n",
    "df.loc[df['Make']== 'Lexus','Make'] =21\n",
    "df.loc[df['Make']=='Lincoln','Make'] = 22\n",
    "df.loc[df['Make']== 'Maserati','Make'] =23\n",
    "df.loc[df['Make']=='Mercedes-Benz','Make'] = 24\n",
    "df.loc[df['Make']== 'Nissan','Make'] =25\n",
    "df.loc[df['Make']=='Porsche','Make'] = 26\n",
    "df.loc[df['Make']== 'Ram','Make'] =27\n",
    "df.loc[df['Make']=='Subaru','Make'] = 28\n",
    "df.loc[df['Make']== 'Toyota','Make'] =29\n",
    "df.loc[df['Make']=='Volkswagen','Make'] = 30\n",
    "df.loc[df['Make']== 'Mazda','Make'] =31\n",
    "df.loc[df['Make']== 'MINI','Make'] =32\n",
    "df.loc[df['Make']=='Mitsubishi','Make'] = 33\n",
    "df.loc[df['Make']== 'Volvo','Make'] =34\n",
    "df.loc[df['Make']=='Lamborghini','Make'] = 35\n",
    "df.loc[df['Make']== 'Rolls-Royce','Make'] =36\n",
    "df.loc[df['Make']=='Bugatti','Make'] = 37\n",
    "df.loc[df['Make']=='FIAT','Make'] = 38"
   ]
  },
  {
   "cell_type": "code",
   "execution_count": 34,
   "metadata": {},
   "outputs": [
    {
     "data": {
      "text/plain": [
       "array([0, 1, 2, 3, 4, 5, 37, 6, 7, 8, 9, 10, 38, 11, 12, 13, 14, 15, 16,\n",
       "       17, 18, 19, 35, 20, 21, 22, 23, 31, 24, 32, 33, 25, 26, 27, 36, 28,\n",
       "       29, 30, 34], dtype=object)"
      ]
     },
     "execution_count": 34,
     "metadata": {},
     "output_type": "execute_result"
    }
   ],
   "source": [
    "df['Make'].unique()"
   ]
  },
  {
   "cell_type": "code",
   "execution_count": 35,
   "metadata": {},
   "outputs": [
    {
     "data": {
      "text/plain": [
       "array(['ILX', 'MDX SH-AWD', 'RDX SH-AWD', 'RDX SH-AWD A-SPEC',\n",
       "       'TLX SH-AWD', 'TLX SH-AWD A-SPEC', 'TLX Type S',\n",
       "       'TLX Type S (Performance Tire)', 'Giulia', 'Giulia AWD',\n",
       "       'Giulia Quadrifoglio', 'Stelvio', 'Stelvio AWD',\n",
       "       'Stelvio AWD Quadrifoglio', 'DB11 V8', 'DB11 V12', 'DBS V12',\n",
       "       'DBX V8', 'Vantage V8', 'A3 Sedan 40 TFSI quattro',\n",
       "       'A4 Sedan 40 TFSI quattro', 'A4 Sedan 45 TFSI quattro',\n",
       "       'A4 allroad 45 TFSI quattro', 'A5 Cabriolet 45 TFSI quattro',\n",
       "       'A5 Coupe 45 TFSI quattro', 'A5 Sportback 45 TFSI quattro',\n",
       "       'A6 Sedan 45 TFSI quattro', 'A6 Sedan 55 TFSI quattro',\n",
       "       'A6 allroad 55 TFSI quattro', 'A7 Sportback 55 TFSI quattro',\n",
       "       'A8 L Sedan 55 TFSI quattro', 'Q3 40 TFSI quattro',\n",
       "       'Q3 45 TFSI quattro', 'Q5 40 TFSI quattro', 'Q5 45 TFSI quattro',\n",
       "       'Q5 Sportback 45 TFSI quattro', 'Q7 45 TFSI quattro',\n",
       "       'Q7 55 TFSI quattro', 'Q8 55 TFSI quattro', 'R8 Coupe Performance',\n",
       "       'R8 Coupe Performance quattro', 'R8 Spyder Performance',\n",
       "       'R8 Spyder Performance quattro', 'RS 5 Coupe quattro',\n",
       "       'RS 5 Sportback quattro', 'RS 6 Avant quattro',\n",
       "       'RS 7 Sportback quattro', 'RS Q8 quattro', 'S3 Sedan quattro',\n",
       "       'S4 Sedan quattro', 'S5 Cabriolet quattro', 'S5 Coupe quattro',\n",
       "       'S5 Sportback quattro', 'S6 Sedan quattro', 'S7 Sportback quattro',\n",
       "       'S8 Sedan quattro', 'SQ5 quattro', 'SQ5 Sportback quattro',\n",
       "       'SQ7 quattro', 'SQ8 quattro', 'TT Coupe 45 TFSI quattro',\n",
       "       'TT Roadster 45 TFSI quattro', 'TT RS Coupe quattro',\n",
       "       'TTS Coupe quattro', 'Bentayga', 'Bentayga Speed',\n",
       "       'Continental GT', 'Continental GT Speed',\n",
       "       'Continental GT Convertible', 'Continental GT Convertible Speed',\n",
       "       'Flying Spur', '330i xDrive Sedan', '430i xDrive Cabriolet',\n",
       "       '430i xDrive Coupe', '530i xDrive Sedan', '540i xDrive Sedan',\n",
       "       '750i xDrive Sedan', '750Li xDrive Sedan', 'Alpina B7',\n",
       "       'Alpina B8 Gran Coupe', 'Alpina XB7', 'M235i xDrive Gran Coupe',\n",
       "       'M240i xDrive Coupe', 'M3 Sedan', 'M3 Competition Sedan',\n",
       "       'M3 Competition Sedan M xDrive', 'M340i xDrive Sedan',\n",
       "       'M4 Competition Cabriolet M xDrive', 'M4 Coupe',\n",
       "       'M4 Competition Coupe', 'M4 Competition Coupe M xDrive',\n",
       "       'M440i xDrive Cabriolet', 'M440i xDrive Coupe',\n",
       "       'M440i xDrive Gran Coupe', 'M5 Sedan', 'M5 Competition', 'M5 CS',\n",
       "       'M550i xDrive Sedan', 'M760i xDrive Sedan', 'M8 Cabriolet',\n",
       "       'M8 Cabriolet Competition', 'M8 Coupe', 'M8 Coupe Competition',\n",
       "       'M8 Gran Coupe', 'M8 Gran Coupe Competition',\n",
       "       'M850i xDrive Cabriolet', 'M850i xDrive Coupe',\n",
       "       'M850i xDrive Gran Coupe', 'X1 xDrive28i', 'X2 xDrive28i',\n",
       "       'X2 M35i', 'X3 xDrive30i', 'X3 M', 'X3 M Competition', 'X3 M40i',\n",
       "       'X4 xDrive30i', 'X4 M', 'X4 M Competition', 'X4 M40i',\n",
       "       'X5 xDrive40i', 'X5 M', 'X5 M Competition', 'X5 M50i',\n",
       "       'X6 xDrive40i', 'X6 M', 'X6 M Competition', 'X6 M50i',\n",
       "       'X7 xDrive40i', 'X7 M50i', 'Z4 sDrive30i', 'Z4 M40i', 'Chiron',\n",
       "       'Chiron Pur Sport', 'Chiron Super Sport', 'Enclave', 'Enclave AWD',\n",
       "       'Encore', 'Encore AWD', 'Encore GX', 'Encore GX AWD', 'Envision',\n",
       "       'Envision AWD', 'CT4', 'CT4 AWD', 'CT4-V', 'CT4-V AWD',\n",
       "       'CT4-V Blackwing', 'CT5', 'CT5 AWD', 'CT5-V', 'CT5-V AWD',\n",
       "       'CT5-V Blackwing', 'Escalade 4WD', 'Escalade 4WD (No Stop-Start)',\n",
       "       'XT4', 'XT4 AWD', 'XT5', 'XT5 AWD', 'XT6 AWD', 'Blazer',\n",
       "       'Blazer AWD', 'Camaro', 'Camaro SS', 'Camaro ZL1', 'Colorado',\n",
       "       'Colorado 4WD', 'Colorado ZR2 4WD', 'Corvette', 'Equinox',\n",
       "       'Equinox AWD', 'Malibu', 'Silverado', 'Silverado FFV',\n",
       "       'Silverado 4WD', 'Silverado 4WD Mud Terrain Tire',\n",
       "       'Silverado 4WD (With Sport Mode)', 'Silverado 4WD FFV',\n",
       "       'Silverado 4WD Mud Terrain Tire FFV', 'Silverado 4WD (No DFM)',\n",
       "       'Silverado 4WD (No Stop-Start)',\n",
       "       'Silverado 4WD Mud Terrain Tire (No Stop-Start)',\n",
       "       'Silverado 4WD Mud Terrain Tire (No DFM)',\n",
       "       'Silverado 4WD Custom Trail Boss', 'Silverado 4WD ZR2', 'Spark',\n",
       "       'Suburban', 'Suburban (No Stop-Start)', 'Suburban 4WD',\n",
       "       'Suburban 4WD (No Stop-Start)', 'Tahoe', 'Tahoe (No Stop-Start)',\n",
       "       'Tahoe 4WD', 'Tahoe 4WD (No Stop-Start)', 'Trailblazer',\n",
       "       'Trailblazer AWD', 'Traverse', 'Traverse AWD', 'Trax', 'Trax AWD',\n",
       "       '300', '300 AWD', 'Grand Caravan', 'Pacifica', 'Pacifica AWD',\n",
       "       'Challenger', 'Challenger (MDS)', 'Challenger AWD',\n",
       "       'Challenger Widebody (MDS)', 'Challenger Widebody',\n",
       "       'Challenger SRT Hellcat', 'Challenger SRT Hellcat Widebody',\n",
       "       'Charger', 'Charger (MDS)', 'Charger AWD',\n",
       "       'Charger Widebody (MDS)', 'Charger SRT Hellcat Widebody',\n",
       "       'Durango AWD', 'Durango AWD SRT', '500X AWD', 'Bronco 4WD',\n",
       "       'Bronco Badlands 4WD', 'Bronco Black Diamond 4WD',\n",
       "       'Bronco Sasquatch 4WD', 'Bronco Sport 4WD', 'EcoSport AWD',\n",
       "       'Edge AWD', 'Escape', 'Escape AWD', 'Escape Hybrid',\n",
       "       'Escape Hybrid AWD', 'Expedition 4X4',\n",
       "       'Expedition 4X4 (Without Stop-Start)', 'Expedition Timberline 4X4',\n",
       "       'Expedition Timberline 4X4 (Without Stop-Start)', 'Explorer AWD',\n",
       "       'Explorer AWD (Without Stop-Start)', 'Explorer Timberline AWD',\n",
       "       'Explorer Timberline AWD (Without Stop-Start)',\n",
       "       'Explorer Hybrid AWD', 'F-150', 'F-150 (Without Stop-Start)',\n",
       "       'F-150 FFV', 'F-150 FFV (Without Stop-Start)', 'F-150 4X4',\n",
       "       'F-150 4X4 FFV', 'F-150 4X4 (Without Stop-Start)',\n",
       "       'F-150 4X4 FFV (Without Stop-Start)', 'F-150 Raptor 4X4',\n",
       "       'F-150 Raptor 4X4 (Without Stop-Start)', 'F-150 Raptor 37 4X4',\n",
       "       'F-150 Raptor 37 4X4 (Without Stop-Start)', 'F-150 Tremor 4X4',\n",
       "       'F-150 Tremor 4X4 (Without Stop-Start)', 'F-150 Hybrid',\n",
       "       'F-150 Hybrid 4X4', 'GT', 'Maverick AWD', 'Maverick Hybrid',\n",
       "       'Mustang', 'Mustang (High Performance)', 'Mustang Convertible',\n",
       "       'Mustang Convertible (High Performance)', 'Mustang Mach 1',\n",
       "       'Ranger 4WD', 'Ranger 4WD (Without Stop-Start)',\n",
       "       'Ranger 4WD Tremor', 'Shelby GT500 Mustang', 'Transit Connect Van',\n",
       "       'Transit Connect Van FFV', 'Transit Connect Wagon LWB',\n",
       "       'Transit Connect Wagon LWB FFV', 'G70 AWD', 'G80 AWD', 'G90 AWD',\n",
       "       'GV70 AWD', 'GV80 AWD', 'Acadia', 'Acadia AWD', 'Canyon',\n",
       "       'Canyon 4WD', 'Sierra', 'Sierra FFV', 'Sierra 4WD',\n",
       "       'Sierra 4WD Mud Terrain Tire', 'Sierra 4WD FFV',\n",
       "       'Sierra 4WD Mud Terrain Tire FFV', 'Sierra 4WD (No DFM)',\n",
       "       'Sierra 4WD (With Sport Mode)', 'Sierra 4WD (No Stop-Start)',\n",
       "       'Sierra 4WD Mud Terrain Tire (No DFM)',\n",
       "       'Sierra 4WD Mud Terrain Tire (No Stop-Start)', 'Terrain',\n",
       "       'Terrain AWD', 'Yukon', 'Yukon (No Stop-Start)', 'Yukon 4WD',\n",
       "       'Yukon 4WD (No Stop-Start)', 'Yukon XL',\n",
       "       'Yukon XL (No Stop-Start)', 'Yukon XL 4WD',\n",
       "       'Yukon XL 4WD (No Stop-Start)', 'Accord', 'Accord Sport/Touring',\n",
       "       'Accord Hybrid', 'Accord Hybrid Sport/Touring', 'Civic Hatchback',\n",
       "       'Civic Sedan', 'Civic Sedan Si', 'CR-V', 'CR-V AWD', 'HR-V',\n",
       "       'HR-V AWD', 'Odyssey', 'Passport AWD', 'Pilot AWD',\n",
       "       'Pilot AWD TrailSport', 'Ridgeline AWD', 'Elantra',\n",
       "       'Elantra (ISG)', 'Elantra N', 'Elantra Hybrid Blue', 'IONIQ',\n",
       "       'IONIQ Blue', 'Kona', 'Kona N', 'Kona AWD', 'Palisade AWD',\n",
       "       'Santa Cruz AWD', 'Santa Fe AWD', 'Santa Fe Hybrid', 'Sonata',\n",
       "       'Sonata Hybrid', 'Tucson', 'Tucson AWD', 'Tucson Hybrid',\n",
       "       'Veloster N', 'Venue', 'Q50 AWD', 'Q50 AWD Red Sport', 'Q60 AWD',\n",
       "       'Q60 AWD Red Sport', 'QX50 AWD', 'QX55 AWD', 'QX60 AWD',\n",
       "       'QX80 4WD', 'E-PACE P250', 'E-PACE P300',\n",
       "       'F-TYPE P450 Convertible', 'F-TYPE P450 Convertible AWD',\n",
       "       'F-TYPE P450 Coupe', 'F-TYPE P450 Coupe AWD',\n",
       "       'F-TYPE R Convertible AWD', 'F-TYPE R Coupe AWD', 'Cherokee',\n",
       "       'Cherokee 4X4 Active Drive I', 'Cherokee 4X4 Active Drive Lock',\n",
       "       'Compass', 'Compass 4X4', 'Gladiator 4X4 EcoDiesel',\n",
       "       'Gladiator 4X4 Rubicon EcoDiesel', 'Gladiator 4X4',\n",
       "       'Grand Cherokee 4X4', 'Grand Cherokee L 4X4',\n",
       "       'Grand Cherokee WK 4X4', 'Grand Wagoneer 4X4', 'Renegade',\n",
       "       'Renegade 4X4', 'Renegade 4X4 Trailhawk', 'Wagoneer 4X4',\n",
       "       'Wrangler JL 4X4', 'Wrangler JL 4X4 eTorque',\n",
       "       'Wrangler JL Unlimited 4X4', 'Wrangler JL Unlimited 4X4 EcoDiesel',\n",
       "       'Wrangler JL Unlimited 4X4 Rubicon EcoDiesel',\n",
       "       'Wrangler JL Unlimited 4X4 eTorque', 'Carnival', 'Forte',\n",
       "       'Forte 5', 'K5', 'K5 AWD', 'Niro', 'Niro FE', 'Niro Touring',\n",
       "       'Rio', 'Seltos', 'Seltos AWD', 'Sorento AWD', 'Sorento Hybrid AWD',\n",
       "       'Soul', 'Sportage', 'Sportage AWD', 'Stinger AWD', 'Telluride AWD',\n",
       "       'Aventador Countach', 'Aventador Coupe', 'Aventador Roadster',\n",
       "       'Huracan evo Coupe', 'Huracan evo Coupe AWD', 'Huracan evo Spyder',\n",
       "       'Huracan evo Spyder AWD', 'Urus', 'Defender 90 P300',\n",
       "       'Defender 90 P400', 'Defender 90 5.0L V8', 'Defender 110 P300',\n",
       "       'Defender 110 P400', 'Defender 110 5.0L V8', 'Discovery P300',\n",
       "       'Discovery P360', 'Range Rover P360', 'Range Rover P400',\n",
       "       'Range Rover P525', 'Range Rover P525 LWB',\n",
       "       'Range Rover SVAutobiography', 'Range Rover SVAutobiography LWB',\n",
       "       'Range Rover Sport P360', 'Range Rover Sport HST P400',\n",
       "       'Range Rover Sport P525', 'Range Rover Sport P575 SVR',\n",
       "       'ES 250 AWD', 'ES 300h', 'ES 350', 'ES 350 F SPORT', 'GX 460',\n",
       "       'IS 300', 'IS 300 AWD', 'IS 350 AWD', 'IS 500', 'LC 500',\n",
       "       'LC 500 Convertible', 'LC 500h', 'LS 500 AWD', 'LS 500h AWD',\n",
       "       'LX 600', 'NX 250 AWD', 'NX 350 AWD', 'NX 350 AWD F SPORT',\n",
       "       'NX 350h AWD', 'RC 300 AWD', 'RC 350 AWD', 'RC F', 'RX 350 AWD',\n",
       "       'RX 350 L AWD', 'RX 450h AWD', 'RX 450h L AWD', 'UX 200',\n",
       "       'UX 250h AWD', 'Aviator AWD', 'Corsair AWD', 'Nautilus AWD',\n",
       "       'Navigator 4X4', 'Ghibli GT', 'Ghibli Modena', 'Ghibli Modena AWD',\n",
       "       'Ghibli Trofeo', 'Levante GT', 'Levante Modena',\n",
       "       'Levante Modena V8', 'Levante Trofeo', 'MC20', 'Quattroporte GT',\n",
       "       'Quattroporte Modena', 'Quattroporte Modena AWD',\n",
       "       'Quattroporte Trofeo', 'CX-3', 'CX-3 (SIL)', 'CX-3 4WD',\n",
       "       'CX-30 4WD', 'CX-30 Turbo 4WD', 'CX-5 4WD',\n",
       "       'CX-5 4WD (Cylinder Deactivation)', 'CX-5 Turbo 4WD', 'CX-9 4WD',\n",
       "       'Mazda3 4-Door', 'Mazda3 4-Door (SIL)', 'Mazda3 4-Door 4WD',\n",
       "       'Mazda3 4-Door Turbo 4WD', 'Mazda3 5-Door', 'Mazda3 5-Door (SIL)',\n",
       "       'Mazda3 5-Door 4WD', 'Mazda3 5-Door Turbo 4WD', 'MX-5',\n",
       "       'MX-5 (SIL)', 'A 220 4MATIC Sedan', 'A 250 4MATIC Hatch',\n",
       "       'AMG A 35 4MATIC Sedan', 'AMG A 35 4MATIC Hatch',\n",
       "       'AMG C 43 4MATIC Cabriolet', 'AMG C 43 4MATIC Coupe',\n",
       "       'AMG CLA 35 4MATIC Coupe', 'AMG CLA 45 4MATIC Coupe',\n",
       "       'AMG CLS 53 4MATIC+ Coupe', 'AMG E 53 4MATIC+ Sedan',\n",
       "       'AMG E 53 4MATIC+ Cabriolet', 'AMG E 53 4MATIC+ Coupe',\n",
       "       'AMG GLA 35 4MATIC SUV', 'AMG GLA 45 4MATIC SUV',\n",
       "       'AMG GLB 35 4MATIC SUV', 'AMG GLC 43 4MATIC SUV',\n",
       "       'AMG GLC 43 4MATIC Coupe', 'AMG GLE 53 4MATIC+ SUV',\n",
       "       'AMG GLE 53 4MATIC+ Coupe', 'AMG GT 53 4MATIC+ Coupe',\n",
       "       'C 300 4MATIC Cabriolet', 'C 300 4MATIC Coupe',\n",
       "       'CLA 250 4MATIC Coupe', 'CLS 450 4MATIC Coupe',\n",
       "       'E 350 4MATIC Sedan', 'E 450 4MATIC Sedan',\n",
       "       'E 450 4MATIC Cabriolet', 'E 450 4MATIC Coupe',\n",
       "       'E 450 4MATIC All-Terrain Wagon', 'GLA 250 4MATIC SUV',\n",
       "       'GLB 250 4MATIC SUV', 'GLC 300 4MATIC SUV', 'GLC 300 4MATIC Coupe',\n",
       "       'GLE 350 4MATIC SUV', 'GLE 450 4MATIC SUV', 'GLE 450 4MATIC Coupe',\n",
       "       'GLS 450 4MATIC SUV', 'Maybach S 580 4MATIC Sedan',\n",
       "       'Metris Cargo Van', 'Metris Cargo Van LWB', 'Metris Passenger Van',\n",
       "       'S 500 4MATIC SWB Sedan', 'S 580 4MATIC LWB Sedan',\n",
       "       'Cooper 3 Door', 'Cooper 5 Door', 'Cooper Convertible',\n",
       "       'Cooper Countryman ALL4', 'Cooper S 3 Door', 'Cooper S 5 Door',\n",
       "       'Cooper S Clubman ALL4', 'Cooper S Convertible',\n",
       "       'Cooper S Countryman ALL4', 'John Cooper Works 3 Door',\n",
       "       'John Cooper Works Clubman ALL4', 'John Cooper Works Convertible',\n",
       "       'John Cooper Works Countryman ALL4', 'Eclipse Cross 4WD', 'Mirage',\n",
       "       'Outlander 4WD', 'RVR', 'RVR 4WD', 'Altima AWD',\n",
       "       'Altima AWD SR/Platinum', 'Armada 4WD', 'Frontier', 'Frontier 4WD',\n",
       "       'Kicks', 'Maxima', 'Murano AWD', 'Pathfinder 4WD', 'Qashqai',\n",
       "       'Qashqai AWD', 'Rogue', 'Rogue AWD', 'Rogue AWD SL/Platinum',\n",
       "       'Sentra', 'Sentra SR', 'Versa', '718 Boxster', '718 Boxster T',\n",
       "       '718 Boxster S', '718 Boxster GTS 4.0', '718 Cayman',\n",
       "       '718 Cayman T', '718 Cayman S', '718 Cayman GT4',\n",
       "       '718 Cayman GTS 4.0', '718 Spyder', '911 Carrera',\n",
       "       '911 Carrera Cabriolet', '911 Carrera 4',\n",
       "       '911 Carrera 4 Cabriolet', '911 Carrera S',\n",
       "       '911 Carrera S Cabriolet', '911 Carrera 4S',\n",
       "       '911 Carrera 4S Cabriolet', '911 Carrera GTS',\n",
       "       '911 Carrera GTS Cabriolet', '911 Carrera 4 GTS',\n",
       "       '911 Carrera 4 GTS Cabriolet', '911 GT3', '911 GT3 Touring',\n",
       "       '911 Targa 4', '911 Targa 4S', '911 Targa 4 GTS', '911 Turbo',\n",
       "       '911 Turbo Cabriolet', '911 Turbo S', '911 Turbo S Cabriolet',\n",
       "       'Cayenne', 'Cayenne Coupe', 'Cayenne S', 'Cayenne S Coupe',\n",
       "       'Cayenne GTS', 'Cayenne GTS Coupe', 'Cayenne Turbo',\n",
       "       'Cayenne Turbo Coupe', 'Cayenne Turbo GT', 'Macan', 'Macan S',\n",
       "       'Macan GTS', 'Panamera', 'Panamera 4', 'Panamera 4 Executive',\n",
       "       'Panamera 4 ST', 'Panamera 4S', 'Panamera 4S Executive',\n",
       "       'Panamera 4S ST', 'Panamera GTS', 'Panamera GTS ST',\n",
       "       'Panamera Turbo S', 'Panamera Turbo S Executive',\n",
       "       'Panamera Turbo S ST', '1500 EcoDiesel', '1500 HFE EcoDiesel',\n",
       "       '1500 eTorque', '1500 HFE eTorque', '1500', '1500 4X4 EcoDiesel',\n",
       "       '1500 4X4 eTorque', '1500 4X4', '1500 4X4 TRX', '1500 Classic',\n",
       "       '1500 Classic 4X4', 'ProMaster City', 'Cullinan',\n",
       "       'Cullinan Black Badge', 'Ghost', 'Ghost Black Badge', 'Ghost EWB',\n",
       "       'Phantom', 'Phantom EWB', 'Ascent AWD', 'BRZ', 'Crosstrek AWD',\n",
       "       'Forester AWD', 'Forester Wilderness AWD', 'Impreza 4-Door AWD',\n",
       "       'Impreza 5-Door AWD', 'Legacy AWD', 'Outback AWD',\n",
       "       'Outback Wilderness AWD', 'WRX AWD', '4Runner 4WD',\n",
       "       '4Runner 4WD (Part-Time 4WD) ', 'C-HR', 'Camry LE/SE', 'Camry XSE',\n",
       "       'Camry XSE V6', 'Camry TRD', 'Camry AWD SE', 'Camry AWD XSE',\n",
       "       'Camry Hybrid LE', 'Camry Hybrid SE/XLE/XSE', 'Corolla',\n",
       "       'Corolla XLE', 'Corolla XSE', 'Corolla Apex Edition',\n",
       "       'Corolla Hatchback', 'Corolla Hybrid', 'Corolla Cross',\n",
       "       'Corolla Cross AWD', 'GR 86', 'GR Supra 2.0', 'GR Supra 3.0',\n",
       "       'Highlander AWD', 'Highlander Hybrid AWD',\n",
       "       'Highlander Hybrid AWD Limited/Platinum', 'Prius', 'Prius AWD',\n",
       "       'RAV4', 'RAV4 (Stop/Start)', 'RAV4 AWD', 'RAV4 AWD (Stop/Start)',\n",
       "       'RAV4 AWD LE', 'RAV4 AWD TRD Off-Road', 'RAV4 Hybrid AWD',\n",
       "       'Sequoia 4WD', 'Sienna', 'Sienna AWD', 'Tacoma 4WD',\n",
       "       'Tacoma 4WD D-Cab TRD Off-Road/PRO', 'Tundra', 'Tundra 4WD',\n",
       "       'Tundra 4WD TRD', 'Tundra Hybrid 4WD', 'Tundra Hybrid 4WD TRD PRO',\n",
       "       'Venza AWD', 'Atlas 4MOTION', 'Atlas Cross Sport 4MOTION',\n",
       "       'Golf GTI', 'Golf R', 'Jetta', 'Jetta SE/SEL', 'Jetta GLI',\n",
       "       'Passat', 'Taos', 'Taos 4MOTION', 'Tiguan 4MOTION',\n",
       "       'Tiguan R-Line 4MOTION', 'S60 B5', 'S60 B5 AWD', 'S90 B6 AWD',\n",
       "       'V60 T6 AWD', 'V60 CC T5 AWD', 'V90 CC B6 AWD', 'XC40 T4 AWD',\n",
       "       'XC40 T5 AWD', 'XC60 B5 AWD', 'XC60 B6 AWD', 'XC90 T5 AWD',\n",
       "       'XC90 T6 AWD'], dtype=object)"
      ]
     },
     "execution_count": 35,
     "metadata": {},
     "output_type": "execute_result"
    }
   ],
   "source": [
    "df['Model'].unique()"
   ]
  },
  {
   "cell_type": "code",
   "execution_count": 36,
   "metadata": {},
   "outputs": [
    {
     "data": {
      "text/plain": [
       "Silverado 4WD Mud Terrain Tire    5\n",
       "Sierra 4WD                        5\n",
       "Silverado 4WD                     5\n",
       "Sierra 4WD Mud Terrain Tire       5\n",
       "Mustang                           5\n",
       "                                 ..\n",
       "Ranger 4WD Tremor                 1\n",
       "Shelby GT500 Mustang              1\n",
       "G70 AWD                           1\n",
       "G90 AWD                           1\n",
       "XC90 T6 AWD                       1\n",
       "Name: Model, Length: 715, dtype: int64"
      ]
     },
     "execution_count": 36,
     "metadata": {},
     "output_type": "execute_result"
    }
   ],
   "source": [
    "df['Model'].value_counts()"
   ]
  },
  {
   "cell_type": "code",
   "execution_count": 37,
   "metadata": {},
   "outputs": [
    {
     "data": {
      "text/plain": [
       "array(['Compact', 'SUV: Small', 'Mid-size', 'Minicompact',\n",
       "       'SUV: Standard', 'Two-seater', 'Subcompact',\n",
       "       'Station wagon: Small', 'Station wagon: Mid-size', 'Full-size',\n",
       "       'Pickup truck: Small', 'Pickup truck: Standard', 'Minivan',\n",
       "       'Special purpose vehicle'], dtype=object)"
      ]
     },
     "execution_count": 37,
     "metadata": {},
     "output_type": "execute_result"
    }
   ],
   "source": [
    "df['Vehicle Class'].unique()"
   ]
  },
  {
   "cell_type": "code",
   "execution_count": 38,
   "metadata": {},
   "outputs": [],
   "source": [
    "df.loc[df['Vehicle Class']=='SUV: Small','Vehicle Class'] = 0\n",
    "df.loc[df['Vehicle Class']=='Compact','Vehicle Class'] = 1\n",
    "df.loc[df['Vehicle Class']=='Mid-size','Vehicle Class'] = 2\n",
    "df.loc[df['Vehicle Class']=='Minicompact','Vehicle Class'] = 3\n",
    "df.loc[df['Vehicle Class']=='Two-seater','Vehicle Class'] = 4\n",
    "df.loc[df['Vehicle Class']=='SUV: Standard','Vehicle Class'] = 5\n",
    "df.loc[df['Vehicle Class']=='Subcompact','Vehicle Class'] = 6\n",
    "df.loc[df['Vehicle Class']=='Full-size','Vehicle Class'] = 7\n",
    "df.loc[df['Vehicle Class']=='Pickup truck: Small','Vehicle Class'] = 8\n",
    "df.loc[df['Vehicle Class']=='Pickup truck: Standard','Vehicle Class'] = 9\n",
    "df.loc[df['Vehicle Class']=='Minivan','Vehicle Class'] = 10\n",
    "df.loc[df['Vehicle Class']=='Station wagon: Small','Vehicle Class'] = 11\n",
    "df.loc[df['Vehicle Class']=='Station wagon: Mid-size','Vehicle Class'] = 12\n",
    "df.loc[df['Vehicle Class']=='Special purpose vehicle','Vehicle Class'] = 13\n",
    " "
   ]
  },
  {
   "cell_type": "code",
   "execution_count": 39,
   "metadata": {},
   "outputs": [
    {
     "data": {
      "text/plain": [
       "array([1, 0, 2, 3, 5, 4, 6, 11, 12, 7, 8, 9, 10, 13], dtype=object)"
      ]
     },
     "execution_count": 39,
     "metadata": {},
     "output_type": "execute_result"
    }
   ],
   "source": [
    "df['Vehicle Class'].unique()"
   ]
  },
  {
   "cell_type": "code",
   "execution_count": 40,
   "metadata": {},
   "outputs": [
    {
     "data": {
      "text/plain": [
       "array(['AM8', 'AS10', 'A8', 'A9', 'AM7', 'AS8', 'M6', 'AS6', 'AV', 'AS9',\n",
       "       'A10', 'A6', 'M5', 'M7', 'AV7', 'AV1', 'AM6', 'AS7', 'AV8', 'AV6',\n",
       "       'AV10', 'AS5', 'A7'], dtype=object)"
      ]
     },
     "execution_count": 40,
     "metadata": {},
     "output_type": "execute_result"
    }
   ],
   "source": [
    "df['Transmission'].unique()"
   ]
  },
  {
   "cell_type": "code",
   "execution_count": 41,
   "metadata": {},
   "outputs": [],
   "source": [
    "df.loc[df['Transmission']=='AM8','Transmission'] = 0\n",
    "df.loc[df['Transmission']=='AS10','Transmission'] = 1\n",
    "df.loc[df['Transmission']=='A8','Transmission'] = 2\n",
    "df.loc[df['Transmission']=='A9','Transmission'] = 3\n",
    "df.loc[df['Transmission']=='AM7','Transmission'] = 4\n",
    "df.loc[df['Transmission']=='AS8','Transmission'] = 5\n",
    "df.loc[df['Transmission']=='M6','Transmission'] = 6\n",
    "df.loc[df['Transmission']=='AS6','Transmission']=7\n",
    "df.loc[df['Transmission']=='AV','Transmission']=8\n",
    "df.loc[df['Transmission']=='AS9','Transmission']=9\n",
    "df.loc[df['Transmission']=='A10','Transmission']=10\n",
    "df.loc[df['Transmission']=='A6','Transmission']=11\n",
    "df.loc[df['Transmission']=='M5','Transmission']=12\n",
    "df.loc[df['Transmission']=='M7','Transmission']=13\n",
    "df.loc[df['Transmission']=='AV7','Transmission']=14\n",
    "df.loc[df['Transmission']=='AV1','Transmission']=15\n",
    "df.loc[df['Transmission']=='AM6','Transmission']=16\n",
    "df.loc[df['Transmission']=='AS7','Transmission']=17\n",
    "df.loc[df['Transmission']=='AV8','Transmission']=18\n",
    "df.loc[df['Transmission']=='AV6','Transmission']=19\n",
    "df.loc[df['Transmission']=='AV10','Transmission']=20\n",
    "df.loc[df['Transmission']=='AS5','Transmission']=21\n",
    "df.loc[df['Transmission']=='A7','Transmission']=22\n"
   ]
  },
  {
   "cell_type": "code",
   "execution_count": 42,
   "metadata": {},
   "outputs": [
    {
     "data": {
      "text/plain": [
       "array([0, 1, 2, 3, 4, 5, 6, 7, 8, 9, 10, 11, 12, 13, 14, 15, 16, 17, 18,\n",
       "       19, 20, 21, 22], dtype=object)"
      ]
     },
     "execution_count": 42,
     "metadata": {},
     "output_type": "execute_result"
    }
   ],
   "source": [
    "df['Transmission'].unique()"
   ]
  },
  {
   "cell_type": "code",
   "execution_count": 43,
   "metadata": {},
   "outputs": [
    {
     "data": {
      "text/plain": [
       "array(['Z', 'X', 'D', 'E'], dtype=object)"
      ]
     },
     "execution_count": 43,
     "metadata": {},
     "output_type": "execute_result"
    }
   ],
   "source": [
    "df['Fuel Type'].unique()"
   ]
  },
  {
   "cell_type": "code",
   "execution_count": 44,
   "metadata": {},
   "outputs": [],
   "source": [
    "df.loc[df['Fuel Type']=='Z','Fuel Type'] = 0\n",
    "df.loc[df['Fuel Type']=='X', 'Fuel Type'] = 1\n",
    "df.loc[df['Fuel Type']=='D','Fuel Type'] = 2\n",
    "df.loc[df['Fuel Type']=='E', 'Fuel Type'] = 3"
   ]
  },
  {
   "cell_type": "code",
   "execution_count": 45,
   "metadata": {},
   "outputs": [
    {
     "data": {
      "text/plain": [
       "array([0, 1, 2, 3], dtype=object)"
      ]
     },
     "execution_count": 45,
     "metadata": {},
     "output_type": "execute_result"
    }
   ],
   "source": [
    "df['Fuel Type'].unique()"
   ]
  },
  {
   "cell_type": "code",
   "execution_count": 46,
   "metadata": {},
   "outputs": [
    {
     "data": {
      "text/plain": [
       "array([ 9.9, 12.6, 11. , 11.3, 11.2, 12.3, 10. , 10.5, 13.5, 10.3, 10.8,\n",
       "       13.9, 13. , 16.4, 16.8, 13.1,  8.5,  9.1,  9.8, 10.4, 10.2, 11.1,\n",
       "       11.5, 11.4, 12. , 12.8, 16.7, 17.9, 16.1, 16. , 18. , 16.9, 12.5,\n",
       "       11.7, 15.8, 19. , 14.9, 19.6, 15.2, 20.3, 15.5, 19.2,  9.5, 10.1,\n",
       "       15.7, 14.7, 14.5, 14.6, 15.1, 10.9, 17.8, 14.4, 12.1,  9.4, 26.8,\n",
       "       30.3, 13.6,  9.7,  8. ,  8.2,  9. , 11.9, 15. , 12.4, 18.1, 18.3,\n",
       "       16.3, 17. , 12.9, 10.6, 17.2, 12.2, 11.8, 14. , 13.3,  8.9, 10.7,\n",
       "       16.2, 21.5, 16.5, 22. , 17.4, 23.1, 15.6, 15.3, 16.6, 18.2,  7.7,\n",
       "       15.9, 14.1, 17.6, 18.6, 12.7, 13.8,  9.3, 11.6,  5.4,  5.5, 14.8,\n",
       "       15.4, 13.4, 13.7, 20.8, 20.1, 17.3, 21.2, 20.7, 14.3, 19.9,  5.6,\n",
       "       17.1,  9.2,  9.6,  7.8,  8.1,  5. ,  5.3,  7.6,  8.7,  8.3,  8.4,\n",
       "        8.8,  7.1,  4.5,  4.3,  4. ,  6.3,  7.9,  8.6, 17.5, 18.5,  4.4,\n",
       "        7.2,  6.4, 26.5, 13.2, 14.2,  5.7,  7.5,  6.6,  7.4, 22.4, 20. ,\n",
       "        4.9,  6.7,  4.6,  5.8,  6.8,  5.9])"
      ]
     },
     "execution_count": 46,
     "metadata": {},
     "output_type": "execute_result"
    }
   ],
   "source": [
    "df['Fuel Consumption (City (L/100 km)'].unique()"
   ]
  },
  {
   "cell_type": "code",
   "execution_count": 47,
   "metadata": {},
   "outputs": [
    {
     "data": {
      "text/plain": [
       "array([ 6,  4,  5,  3,  7,  2,  1,  8,  9, 10], dtype=int64)"
      ]
     },
     "execution_count": 47,
     "metadata": {},
     "output_type": "execute_result"
    }
   ],
   "source": [
    "df['CO2 Rating'].unique()"
   ]
  },
  {
   "cell_type": "code",
   "execution_count": 48,
   "metadata": {},
   "outputs": [
    {
     "data": {
      "text/html": [
       "<div>\n",
       "<style scoped>\n",
       "    .dataframe tbody tr th:only-of-type {\n",
       "        vertical-align: middle;\n",
       "    }\n",
       "\n",
       "    .dataframe tbody tr th {\n",
       "        vertical-align: top;\n",
       "    }\n",
       "\n",
       "    .dataframe thead th {\n",
       "        text-align: right;\n",
       "    }\n",
       "</style>\n",
       "<table border=\"1\" class=\"dataframe\">\n",
       "  <thead>\n",
       "    <tr style=\"text-align: right;\">\n",
       "      <th></th>\n",
       "      <th>Model Year</th>\n",
       "      <th>Make</th>\n",
       "      <th>Model</th>\n",
       "      <th>Vehicle Class</th>\n",
       "      <th>Engine Size(L)</th>\n",
       "      <th>Cylinders</th>\n",
       "      <th>Transmission</th>\n",
       "      <th>Fuel Type</th>\n",
       "      <th>Fuel Consumption (City (L/100 km)</th>\n",
       "      <th>Fuel Consumption(Hwy (L/100 km))</th>\n",
       "      <th>Fuel Consumption(Comb (L/100 km))</th>\n",
       "      <th>Fuel Consumption(Comb (mpg))</th>\n",
       "      <th>CO2 Emissions(g/km)</th>\n",
       "      <th>CO2 Rating</th>\n",
       "      <th>Smog Rating</th>\n",
       "    </tr>\n",
       "  </thead>\n",
       "  <tbody>\n",
       "    <tr>\n",
       "      <th>0</th>\n",
       "      <td>2022</td>\n",
       "      <td>0</td>\n",
       "      <td>ILX</td>\n",
       "      <td>1</td>\n",
       "      <td>2.4</td>\n",
       "      <td>4</td>\n",
       "      <td>0</td>\n",
       "      <td>0</td>\n",
       "      <td>9.9</td>\n",
       "      <td>7.0</td>\n",
       "      <td>8.6</td>\n",
       "      <td>33</td>\n",
       "      <td>200</td>\n",
       "      <td>6</td>\n",
       "      <td>3</td>\n",
       "    </tr>\n",
       "    <tr>\n",
       "      <th>1</th>\n",
       "      <td>2022</td>\n",
       "      <td>0</td>\n",
       "      <td>MDX SH-AWD</td>\n",
       "      <td>0</td>\n",
       "      <td>3.5</td>\n",
       "      <td>6</td>\n",
       "      <td>1</td>\n",
       "      <td>0</td>\n",
       "      <td>12.6</td>\n",
       "      <td>9.4</td>\n",
       "      <td>11.2</td>\n",
       "      <td>25</td>\n",
       "      <td>263</td>\n",
       "      <td>4</td>\n",
       "      <td>5</td>\n",
       "    </tr>\n",
       "    <tr>\n",
       "      <th>2</th>\n",
       "      <td>2022</td>\n",
       "      <td>0</td>\n",
       "      <td>RDX SH-AWD</td>\n",
       "      <td>0</td>\n",
       "      <td>2.0</td>\n",
       "      <td>4</td>\n",
       "      <td>1</td>\n",
       "      <td>0</td>\n",
       "      <td>11.0</td>\n",
       "      <td>8.6</td>\n",
       "      <td>9.9</td>\n",
       "      <td>29</td>\n",
       "      <td>232</td>\n",
       "      <td>5</td>\n",
       "      <td>6</td>\n",
       "    </tr>\n",
       "    <tr>\n",
       "      <th>3</th>\n",
       "      <td>2022</td>\n",
       "      <td>0</td>\n",
       "      <td>RDX SH-AWD A-SPEC</td>\n",
       "      <td>0</td>\n",
       "      <td>2.0</td>\n",
       "      <td>4</td>\n",
       "      <td>1</td>\n",
       "      <td>0</td>\n",
       "      <td>11.3</td>\n",
       "      <td>9.1</td>\n",
       "      <td>10.3</td>\n",
       "      <td>27</td>\n",
       "      <td>242</td>\n",
       "      <td>5</td>\n",
       "      <td>6</td>\n",
       "    </tr>\n",
       "    <tr>\n",
       "      <th>4</th>\n",
       "      <td>2022</td>\n",
       "      <td>0</td>\n",
       "      <td>TLX SH-AWD</td>\n",
       "      <td>1</td>\n",
       "      <td>2.0</td>\n",
       "      <td>4</td>\n",
       "      <td>1</td>\n",
       "      <td>0</td>\n",
       "      <td>11.2</td>\n",
       "      <td>8.0</td>\n",
       "      <td>9.8</td>\n",
       "      <td>29</td>\n",
       "      <td>230</td>\n",
       "      <td>5</td>\n",
       "      <td>7</td>\n",
       "    </tr>\n",
       "    <tr>\n",
       "      <th>...</th>\n",
       "      <td>...</td>\n",
       "      <td>...</td>\n",
       "      <td>...</td>\n",
       "      <td>...</td>\n",
       "      <td>...</td>\n",
       "      <td>...</td>\n",
       "      <td>...</td>\n",
       "      <td>...</td>\n",
       "      <td>...</td>\n",
       "      <td>...</td>\n",
       "      <td>...</td>\n",
       "      <td>...</td>\n",
       "      <td>...</td>\n",
       "      <td>...</td>\n",
       "      <td>...</td>\n",
       "    </tr>\n",
       "    <tr>\n",
       "      <th>941</th>\n",
       "      <td>2022</td>\n",
       "      <td>34</td>\n",
       "      <td>XC40 T5 AWD</td>\n",
       "      <td>0</td>\n",
       "      <td>2.0</td>\n",
       "      <td>4</td>\n",
       "      <td>5</td>\n",
       "      <td>0</td>\n",
       "      <td>10.7</td>\n",
       "      <td>7.7</td>\n",
       "      <td>9.4</td>\n",
       "      <td>30</td>\n",
       "      <td>219</td>\n",
       "      <td>5</td>\n",
       "      <td>5</td>\n",
       "    </tr>\n",
       "    <tr>\n",
       "      <th>942</th>\n",
       "      <td>2022</td>\n",
       "      <td>34</td>\n",
       "      <td>XC60 B5 AWD</td>\n",
       "      <td>0</td>\n",
       "      <td>2.0</td>\n",
       "      <td>4</td>\n",
       "      <td>5</td>\n",
       "      <td>0</td>\n",
       "      <td>10.5</td>\n",
       "      <td>8.1</td>\n",
       "      <td>9.4</td>\n",
       "      <td>30</td>\n",
       "      <td>219</td>\n",
       "      <td>5</td>\n",
       "      <td>5</td>\n",
       "    </tr>\n",
       "    <tr>\n",
       "      <th>943</th>\n",
       "      <td>2022</td>\n",
       "      <td>34</td>\n",
       "      <td>XC60 B6 AWD</td>\n",
       "      <td>0</td>\n",
       "      <td>2.0</td>\n",
       "      <td>4</td>\n",
       "      <td>5</td>\n",
       "      <td>0</td>\n",
       "      <td>11.0</td>\n",
       "      <td>8.7</td>\n",
       "      <td>9.9</td>\n",
       "      <td>29</td>\n",
       "      <td>232</td>\n",
       "      <td>5</td>\n",
       "      <td>7</td>\n",
       "    </tr>\n",
       "    <tr>\n",
       "      <th>944</th>\n",
       "      <td>2022</td>\n",
       "      <td>34</td>\n",
       "      <td>XC90 T5 AWD</td>\n",
       "      <td>5</td>\n",
       "      <td>2.0</td>\n",
       "      <td>4</td>\n",
       "      <td>5</td>\n",
       "      <td>0</td>\n",
       "      <td>11.5</td>\n",
       "      <td>8.4</td>\n",
       "      <td>10.1</td>\n",
       "      <td>28</td>\n",
       "      <td>236</td>\n",
       "      <td>5</td>\n",
       "      <td>5</td>\n",
       "    </tr>\n",
       "    <tr>\n",
       "      <th>945</th>\n",
       "      <td>2022</td>\n",
       "      <td>34</td>\n",
       "      <td>XC90 T6 AWD</td>\n",
       "      <td>5</td>\n",
       "      <td>2.0</td>\n",
       "      <td>4</td>\n",
       "      <td>5</td>\n",
       "      <td>0</td>\n",
       "      <td>12.4</td>\n",
       "      <td>8.9</td>\n",
       "      <td>10.8</td>\n",
       "      <td>26</td>\n",
       "      <td>252</td>\n",
       "      <td>5</td>\n",
       "      <td>7</td>\n",
       "    </tr>\n",
       "  </tbody>\n",
       "</table>\n",
       "<p>946 rows × 15 columns</p>\n",
       "</div>"
      ],
      "text/plain": [
       "     Model Year Make              Model Vehicle Class  Engine Size(L)  \\\n",
       "0          2022    0                ILX             1             2.4   \n",
       "1          2022    0         MDX SH-AWD             0             3.5   \n",
       "2          2022    0         RDX SH-AWD             0             2.0   \n",
       "3          2022    0  RDX SH-AWD A-SPEC             0             2.0   \n",
       "4          2022    0         TLX SH-AWD             1             2.0   \n",
       "..          ...  ...                ...           ...             ...   \n",
       "941        2022   34        XC40 T5 AWD             0             2.0   \n",
       "942        2022   34        XC60 B5 AWD             0             2.0   \n",
       "943        2022   34        XC60 B6 AWD             0             2.0   \n",
       "944        2022   34        XC90 T5 AWD             5             2.0   \n",
       "945        2022   34        XC90 T6 AWD             5             2.0   \n",
       "\n",
       "     Cylinders Transmission Fuel Type  Fuel Consumption (City (L/100 km)  \\\n",
       "0            4            0         0                                9.9   \n",
       "1            6            1         0                               12.6   \n",
       "2            4            1         0                               11.0   \n",
       "3            4            1         0                               11.3   \n",
       "4            4            1         0                               11.2   \n",
       "..         ...          ...       ...                                ...   \n",
       "941          4            5         0                               10.7   \n",
       "942          4            5         0                               10.5   \n",
       "943          4            5         0                               11.0   \n",
       "944          4            5         0                               11.5   \n",
       "945          4            5         0                               12.4   \n",
       "\n",
       "     Fuel Consumption(Hwy (L/100 km))  Fuel Consumption(Comb (L/100 km))  \\\n",
       "0                                 7.0                                8.6   \n",
       "1                                 9.4                               11.2   \n",
       "2                                 8.6                                9.9   \n",
       "3                                 9.1                               10.3   \n",
       "4                                 8.0                                9.8   \n",
       "..                                ...                                ...   \n",
       "941                               7.7                                9.4   \n",
       "942                               8.1                                9.4   \n",
       "943                               8.7                                9.9   \n",
       "944                               8.4                               10.1   \n",
       "945                               8.9                               10.8   \n",
       "\n",
       "     Fuel Consumption(Comb (mpg))  CO2 Emissions(g/km)  CO2 Rating  \\\n",
       "0                              33                  200           6   \n",
       "1                              25                  263           4   \n",
       "2                              29                  232           5   \n",
       "3                              27                  242           5   \n",
       "4                              29                  230           5   \n",
       "..                            ...                  ...         ...   \n",
       "941                            30                  219           5   \n",
       "942                            30                  219           5   \n",
       "943                            29                  232           5   \n",
       "944                            28                  236           5   \n",
       "945                            26                  252           5   \n",
       "\n",
       "     Smog Rating  \n",
       "0              3  \n",
       "1              5  \n",
       "2              6  \n",
       "3              6  \n",
       "4              7  \n",
       "..           ...  \n",
       "941            5  \n",
       "942            5  \n",
       "943            7  \n",
       "944            5  \n",
       "945            7  \n",
       "\n",
       "[946 rows x 15 columns]"
      ]
     },
     "execution_count": 48,
     "metadata": {},
     "output_type": "execute_result"
    }
   ],
   "source": [
    "df"
   ]
  },
  {
   "cell_type": "code",
   "execution_count": 49,
   "metadata": {},
   "outputs": [
    {
     "name": "stdout",
     "output_type": "stream",
     "text": [
      "<class 'pandas.core.frame.DataFrame'>\n",
      "RangeIndex: 946 entries, 0 to 945\n",
      "Data columns (total 15 columns):\n",
      " #   Column                             Non-Null Count  Dtype  \n",
      "---  ------                             --------------  -----  \n",
      " 0   Model Year                         946 non-null    int64  \n",
      " 1   Make                               946 non-null    object \n",
      " 2   Model                              946 non-null    object \n",
      " 3   Vehicle Class                      946 non-null    object \n",
      " 4   Engine Size(L)                     946 non-null    float64\n",
      " 5   Cylinders                          946 non-null    int64  \n",
      " 6   Transmission                       946 non-null    object \n",
      " 7   Fuel Type                          946 non-null    object \n",
      " 8   Fuel Consumption (City (L/100 km)  946 non-null    float64\n",
      " 9   Fuel Consumption(Hwy (L/100 km))   946 non-null    float64\n",
      " 10  Fuel Consumption(Comb (L/100 km))  946 non-null    float64\n",
      " 11  Fuel Consumption(Comb (mpg))       946 non-null    int64  \n",
      " 12  CO2 Emissions(g/km)                946 non-null    int64  \n",
      " 13  CO2 Rating                         946 non-null    int64  \n",
      " 14  Smog Rating                        946 non-null    int64  \n",
      "dtypes: float64(4), int64(6), object(5)\n",
      "memory usage: 111.0+ KB\n"
     ]
    }
   ],
   "source": [
    "df.info()"
   ]
  },
  {
   "cell_type": "code",
   "execution_count": 50,
   "metadata": {},
   "outputs": [],
   "source": [
    "# Input = ['Make','Vehicle class','Engine Size(L)','Cylinders','Transmission','Fuel Type', 'Fuel consumption city', 'Fuel consumption hwy','Fuel consumption comb','Fuel consumption comb mpg']"
   ]
  },
  {
   "cell_type": "code",
   "execution_count": 51,
   "metadata": {},
   "outputs": [],
   "source": [
    "X = df.drop(['Model Year','Model','CO2 Emissions(g/km)','CO2 Rating','Smog Rating'], axis=1).values\n",
    "\n",
    "y = df['CO2 Rating'].values"
   ]
  },
  {
   "cell_type": "code",
   "execution_count": 52,
   "metadata": {},
   "outputs": [
    {
     "data": {
      "text/plain": [
       "(946, 10)"
      ]
     },
     "execution_count": 52,
     "metadata": {},
     "output_type": "execute_result"
    }
   ],
   "source": [
    "X.shape"
   ]
  },
  {
   "cell_type": "code",
   "execution_count": 53,
   "metadata": {},
   "outputs": [
    {
     "data": {
      "text/plain": [
       "array([ 6,  4,  5,  5,  5,  5,  5,  4,  6,  5,  4,  5,  5,  4,  4,  3,  3,\n",
       "        3,  4,  7,  6,  6,  6,  5,  6,  6,  6,  5,  5,  5,  5,  5,  5,  5,\n",
       "        5,  5,  5,  4,  4,  3,  3,  3,  3,  4,  4,  3,  3,  2,  6,  5,  5,\n",
       "        5,  5,  5,  5,  3,  4,  4,  3,  3,  5,  5,  5,  5,  3,  2,  4,  2,\n",
       "        4,  2,  3,  2,  6,  6,  6,  6,  5,  4,  4,  4,  4,  3,  5,  5,  4,\n",
       "        4,  4,  5,  3,  4,  4,  4,  5,  5,  5,  3,  3,  3,  4,  3,  3,  3,\n",
       "        3,  3,  3,  3,  4,  4,  4,  5,  6,  6,  5,  3,  3,  5,  5,  3,  3,\n",
       "        5,  5,  2,  2,  3,  5,  2,  2,  3,  5,  3,  6,  5,  1,  1,  1,  4,\n",
       "        4,  6,  5,  6,  6,  6,  5,  5,  6,  5,  5,  5,  5,  5,  4,  3,  6,\n",
       "        5,  5,  4,  4,  4,  3,  3,  4,  3,  3,  5,  5,  5,  5,  4,  5,  4,\n",
       "        5,  5,  5,  4,  5,  5,  5,  4,  4,  4,  3,  3,  5,  4,  4,  4,  4,\n",
       "        4,  3,  3,  4,  6,  6,  7,  5,  4,  5,  3,  3,  3,  3,  3,  3,  4,\n",
       "        4,  4,  3,  3,  2,  2,  3,  2,  3,  3,  3,  3,  2,  2,  2,  3,  3,\n",
       "        3,  3,  2,  2,  7,  7,  4,  3,  3,  4,  3,  3,  3,  3,  4,  3,  3,\n",
       "        4,  3,  3,  3,  3,  6,  7,  6,  4,  4,  6,  5,  5,  4,  4,  5,  5,\n",
       "        4,  5,  4,  3,  3,  3,  4,  3,  3,  3,  3,  2,  3,  5,  4,  3,  4,\n",
       "        3,  2,  4,  3,  2,  5,  4,  4,  4,  3,  3,  3,  3,  3,  3,  3,  3,\n",
       "        5,  5,  5,  5,  5,  4,  6,  6,  5,  8,  8,  3,  3,  3,  3,  5,  5,\n",
       "        4,  4,  4,  5,  5,  4,  4,  5,  4,  4,  3,  4,  3,  4,  4,  4,  5,\n",
       "        4,  3,  3,  3,  3,  4,  3,  2,  2,  2,  3,  3,  5,  5,  2,  5,  8,\n",
       "        5,  5,  5,  5,  5,  4,  3,  5,  5,  5,  5,  5,  3,  3,  3,  5,  4,\n",
       "        4,  2,  5,  5,  5,  5,  5,  5,  5,  5,  4,  5,  4,  3,  5,  4,  5,\n",
       "        4,  5,  5,  5,  4,  5,  4,  4,  4,  4,  4,  4,  5,  3,  3,  3,  3,\n",
       "        3,  3,  4,  4,  3,  3,  2,  2,  3,  2,  3,  3,  3,  3,  2,  2,  3,\n",
       "        3,  3,  2,  6,  5,  4,  3,  3,  4,  3,  3,  3,  3,  4,  3,  3,  4,\n",
       "        3,  3,  3,  3,  7,  7,  5,  9,  8,  7,  7,  7,  6,  7,  7,  7,  7,\n",
       "        7,  6,  6,  6,  6,  5,  4,  5,  4,  4,  7,  7,  7,  6,  5,  5,  9,\n",
       "        9, 10,  7,  5,  6,  6,  4,  5,  5,  5,  7,  6,  6,  6,  9,  6,  5,\n",
       "        7,  5,  5,  7,  6,  5,  4,  5,  4,  5,  5,  5,  3,  5,  5,  4,  3,\n",
       "        4,  3,  3,  3,  5,  5,  5,  5,  5,  5,  4,  5,  5,  4,  4,  4,  4,\n",
       "        5,  3,  4,  3,  4,  2,  6,  5,  5,  3,  5,  4,  4,  4,  5,  5,  4,\n",
       "        4,  4,  4,  2,  5,  6,  7,  7,  6,  7,  6,  6,  9,  9,  9,  7,  7,\n",
       "        6,  6,  6,  5,  5,  7,  6,  5,  4,  5,  4,  4,  1,  1,  1,  2,  2,\n",
       "        2,  2,  2,  4,  4,  3,  3,  4,  3,  4,  4,  4,  4,  3,  3,  3,  2,\n",
       "        4,  4,  4,  3,  6,  9,  5,  5,  3,  5,  5,  5,  4,  4,  3,  6,  4,\n",
       "        5,  4,  6,  5,  5,  8,  5,  5,  4,  5,  4,  6,  6,  7,  8,  4,  5,\n",
       "        5,  5,  5,  4,  3,  4,  4,  4,  3,  3,  3,  3,  3,  4,  4,  4,  4,\n",
       "        3,  7,  6,  6,  6,  6,  5,  5,  5,  5,  5,  7,  7,  6,  6,  6,  7,\n",
       "        6,  6,  6,  6,  5,  6,  6,  6,  6,  5,  5,  5,  5,  5,  5,  5,  5,\n",
       "        5,  5,  5,  4,  4,  4,  4,  4,  4,  4,  5,  5,  6,  5,  5,  5,  5,\n",
       "        5,  5,  5,  5,  5,  5,  5,  5,  5,  4,  3,  4,  4,  4,  5,  4,  7,\n",
       "        7,  7,  7,  7,  7,  5,  7,  5,  7,  5,  6,  6,  6,  5,  6,  5,  5,\n",
       "        6,  5,  5,  8,  8,  6,  6,  5,  5,  6,  6,  2,  4,  4,  7,  5,  5,\n",
       "        5,  6,  5,  6,  7,  6,  7,  6,  6,  7,  7,  6,  6,  7,  7,  5,  5,\n",
       "        5,  5,  5,  4,  4,  4,  5,  5,  5,  5,  5,  4,  4,  4,  4,  4,  4,\n",
       "        4,  4,  4,  4,  4,  4,  4,  4,  4,  4,  4,  4,  4,  4,  4,  4,  4,\n",
       "        4,  4,  4,  4,  3,  3,  3,  3,  4,  4,  4,  4,  4,  3,  3,  3,  3,\n",
       "        4,  4,  3,  3,  3,  3,  3,  3,  3,  4,  4,  4,  4,  4,  4,  4,  4,\n",
       "        4,  4,  3,  3,  3,  3,  3,  5,  5,  5,  5,  3,  4,  4,  4,  3,  4,\n",
       "        1,  4,  3,  4,  3,  5,  2,  2,  2,  2,  2,  2,  2,  5,  5,  5,  6,\n",
       "        5,  6,  6,  5,  7,  5,  7,  5,  6,  6,  5,  6,  5,  4,  5,  3,  3,\n",
       "        6,  7,  7,  5,  5,  6,  6,  9,  9,  7,  7,  7,  7,  7,  7,  7,  7,\n",
       "        7,  9,  7,  6,  5,  5,  6,  5,  5,  7,  7,  9,  9,  6,  7,  6,  6,\n",
       "        6,  6,  8,  2,  7,  7,  4,  3,  3,  4,  4,  4,  4,  4,  8,  5,  4,\n",
       "        5,  4,  6,  6,  5,  5,  7,  7,  7,  6,  6,  6,  7,  6,  5,  5,  6,\n",
       "        6,  5,  5,  5,  5,  5,  5,  5,  5,  5,  5], dtype=int64)"
      ]
     },
     "execution_count": 53,
     "metadata": {},
     "output_type": "execute_result"
    }
   ],
   "source": [
    "y"
   ]
  },
  {
   "cell_type": "code",
   "execution_count": 54,
   "metadata": {},
   "outputs": [],
   "source": [
    "from imblearn.over_sampling import RandomOverSampler\n",
    "ro=RandomOverSampler()\n",
    "x_data,y_data=ro.fit_resample(X,y)"
   ]
  },
  {
   "cell_type": "code",
   "execution_count": 55,
   "metadata": {},
   "outputs": [
    {
     "name": "stdout",
     "output_type": "stream",
     "text": [
      "Actual Data: Counter({5: 266, 4: 228, 3: 189, 6: 113, 7: 71, 2: 48, 9: 13, 8: 10, 1: 7, 10: 1})\n"
     ]
    }
   ],
   "source": [
    "from collections import Counter\n",
    "print(\"Actual Data:\",Counter(y))"
   ]
  },
  {
   "cell_type": "code",
   "execution_count": 56,
   "metadata": {},
   "outputs": [
    {
     "name": "stdout",
     "output_type": "stream",
     "text": [
      "Artificial Data: Counter({6: 266, 4: 266, 5: 266, 3: 266, 7: 266, 2: 266, 1: 266, 8: 266, 9: 266, 10: 266})\n"
     ]
    }
   ],
   "source": [
    "print(\"Artificial Data:\",Counter(y_data))\n"
   ]
  },
  {
   "cell_type": "code",
   "execution_count": 57,
   "metadata": {},
   "outputs": [],
   "source": [
    "from sklearn.model_selection import train_test_split\n",
    "x_train,x_test,y_train,y_test = train_test_split(x_data,y_data,test_size=0.2,random_state=10)"
   ]
  },
  {
   "cell_type": "code",
   "execution_count": 58,
   "metadata": {},
   "outputs": [],
   "source": [
    "from sklearn.model_selection import train_test_split\n",
    "from sklearn.preprocessing import RobustScaler\n",
    "from sklearn.ensemble import RandomForestClassifier\n",
    "from sklearn.metrics import classification_report, confusion_matrix"
   ]
  },
  {
   "cell_type": "code",
   "execution_count": 59,
   "metadata": {},
   "outputs": [],
   "source": [
    "rfc = RandomForestClassifier(n_estimators=60, random_state=23)"
   ]
  },
  {
   "cell_type": "code",
   "execution_count": 60,
   "metadata": {},
   "outputs": [
    {
     "data": {
      "text/html": [
       "<style>#sk-container-id-1 {color: black;background-color: white;}#sk-container-id-1 pre{padding: 0;}#sk-container-id-1 div.sk-toggleable {background-color: white;}#sk-container-id-1 label.sk-toggleable__label {cursor: pointer;display: block;width: 100%;margin-bottom: 0;padding: 0.3em;box-sizing: border-box;text-align: center;}#sk-container-id-1 label.sk-toggleable__label-arrow:before {content: \"▸\";float: left;margin-right: 0.25em;color: #696969;}#sk-container-id-1 label.sk-toggleable__label-arrow:hover:before {color: black;}#sk-container-id-1 div.sk-estimator:hover label.sk-toggleable__label-arrow:before {color: black;}#sk-container-id-1 div.sk-toggleable__content {max-height: 0;max-width: 0;overflow: hidden;text-align: left;background-color: #f0f8ff;}#sk-container-id-1 div.sk-toggleable__content pre {margin: 0.2em;color: black;border-radius: 0.25em;background-color: #f0f8ff;}#sk-container-id-1 input.sk-toggleable__control:checked~div.sk-toggleable__content {max-height: 200px;max-width: 100%;overflow: auto;}#sk-container-id-1 input.sk-toggleable__control:checked~label.sk-toggleable__label-arrow:before {content: \"▾\";}#sk-container-id-1 div.sk-estimator input.sk-toggleable__control:checked~label.sk-toggleable__label {background-color: #d4ebff;}#sk-container-id-1 div.sk-label input.sk-toggleable__control:checked~label.sk-toggleable__label {background-color: #d4ebff;}#sk-container-id-1 input.sk-hidden--visually {border: 0;clip: rect(1px 1px 1px 1px);clip: rect(1px, 1px, 1px, 1px);height: 1px;margin: -1px;overflow: hidden;padding: 0;position: absolute;width: 1px;}#sk-container-id-1 div.sk-estimator {font-family: monospace;background-color: #f0f8ff;border: 1px dotted black;border-radius: 0.25em;box-sizing: border-box;margin-bottom: 0.5em;}#sk-container-id-1 div.sk-estimator:hover {background-color: #d4ebff;}#sk-container-id-1 div.sk-parallel-item::after {content: \"\";width: 100%;border-bottom: 1px solid gray;flex-grow: 1;}#sk-container-id-1 div.sk-label:hover label.sk-toggleable__label {background-color: #d4ebff;}#sk-container-id-1 div.sk-serial::before {content: \"\";position: absolute;border-left: 1px solid gray;box-sizing: border-box;top: 0;bottom: 0;left: 50%;z-index: 0;}#sk-container-id-1 div.sk-serial {display: flex;flex-direction: column;align-items: center;background-color: white;padding-right: 0.2em;padding-left: 0.2em;position: relative;}#sk-container-id-1 div.sk-item {position: relative;z-index: 1;}#sk-container-id-1 div.sk-parallel {display: flex;align-items: stretch;justify-content: center;background-color: white;position: relative;}#sk-container-id-1 div.sk-item::before, #sk-container-id-1 div.sk-parallel-item::before {content: \"\";position: absolute;border-left: 1px solid gray;box-sizing: border-box;top: 0;bottom: 0;left: 50%;z-index: -1;}#sk-container-id-1 div.sk-parallel-item {display: flex;flex-direction: column;z-index: 1;position: relative;background-color: white;}#sk-container-id-1 div.sk-parallel-item:first-child::after {align-self: flex-end;width: 50%;}#sk-container-id-1 div.sk-parallel-item:last-child::after {align-self: flex-start;width: 50%;}#sk-container-id-1 div.sk-parallel-item:only-child::after {width: 0;}#sk-container-id-1 div.sk-dashed-wrapped {border: 1px dashed gray;margin: 0 0.4em 0.5em 0.4em;box-sizing: border-box;padding-bottom: 0.4em;background-color: white;}#sk-container-id-1 div.sk-label label {font-family: monospace;font-weight: bold;display: inline-block;line-height: 1.2em;}#sk-container-id-1 div.sk-label-container {text-align: center;}#sk-container-id-1 div.sk-container {/* jupyter's `normalize.less` sets `[hidden] { display: none; }` but bootstrap.min.css set `[hidden] { display: none !important; }` so we also need the `!important` here to be able to override the default hidden behavior on the sphinx rendered scikit-learn.org. See: https://github.com/scikit-learn/scikit-learn/issues/21755 */display: inline-block !important;position: relative;}#sk-container-id-1 div.sk-text-repr-fallback {display: none;}</style><div id=\"sk-container-id-1\" class=\"sk-top-container\"><div class=\"sk-text-repr-fallback\"><pre>RandomForestClassifier(n_estimators=60, random_state=23)</pre><b>In a Jupyter environment, please rerun this cell to show the HTML representation or trust the notebook. <br />On GitHub, the HTML representation is unable to render, please try loading this page with nbviewer.org.</b></div><div class=\"sk-container\" hidden><div class=\"sk-item\"><div class=\"sk-estimator sk-toggleable\"><input class=\"sk-toggleable__control sk-hidden--visually\" id=\"sk-estimator-id-1\" type=\"checkbox\" checked><label for=\"sk-estimator-id-1\" class=\"sk-toggleable__label sk-toggleable__label-arrow\">RandomForestClassifier</label><div class=\"sk-toggleable__content\"><pre>RandomForestClassifier(n_estimators=60, random_state=23)</pre></div></div></div></div></div>"
      ],
      "text/plain": [
       "RandomForestClassifier(n_estimators=60, random_state=23)"
      ]
     },
     "execution_count": 60,
     "metadata": {},
     "output_type": "execute_result"
    }
   ],
   "source": [
    "rfc.fit(x_train,y_train)"
   ]
  },
  {
   "cell_type": "code",
   "execution_count": 61,
   "metadata": {},
   "outputs": [
    {
     "data": {
      "text/plain": [
       "1.0"
      ]
     },
     "execution_count": 61,
     "metadata": {},
     "output_type": "execute_result"
    }
   ],
   "source": [
    "rfc.score(x_train,y_train)"
   ]
  },
  {
   "cell_type": "code",
   "execution_count": 62,
   "metadata": {},
   "outputs": [
    {
     "data": {
      "text/plain": [
       "0.9906015037593985"
      ]
     },
     "execution_count": 62,
     "metadata": {},
     "output_type": "execute_result"
    }
   ],
   "source": [
    "from sklearn.metrics import accuracy_score\n",
    "y_pred = rfc.predict(x_test )\n",
    "accuracy_score(y_pred,y_test) "
   ]
  },
  {
   "cell_type": "code",
   "execution_count": 63,
   "metadata": {},
   "outputs": [],
   "source": [
    "import sklearn.metrics"
   ]
  },
  {
   "cell_type": "code",
   "execution_count": 64,
   "metadata": {},
   "outputs": [
    {
     "name": "stdout",
     "output_type": "stream",
     "text": [
      "              precision    recall  f1-score   support\n",
      "\n",
      "           1       1.00      1.00      1.00        58\n",
      "           2       1.00      1.00      1.00        58\n",
      "           3       0.95      0.98      0.97        59\n",
      "           4       0.98      0.98      0.98        44\n",
      "           5       1.00      0.93      0.96        42\n",
      "           6       0.98      1.00      0.99        57\n",
      "           7       1.00      1.00      1.00        60\n",
      "           8       1.00      1.00      1.00        53\n",
      "           9       1.00      1.00      1.00        53\n",
      "          10       1.00      1.00      1.00        48\n",
      "\n",
      "    accuracy                           0.99       532\n",
      "   macro avg       0.99      0.99      0.99       532\n",
      "weighted avg       0.99      0.99      0.99       532\n",
      "\n"
     ]
    }
   ],
   "source": [
    "print(sklearn.metrics.classification_report(y_test, y_pred))"
   ]
  },
  {
   "cell_type": "code",
   "execution_count": 65,
   "metadata": {},
   "outputs": [
    {
     "data": {
      "text/plain": [
       "array([[58,  0,  0,  0,  0,  0,  0,  0,  0,  0],\n",
       "       [ 0, 58,  0,  0,  0,  0,  0,  0,  0,  0],\n",
       "       [ 0,  0, 58,  1,  0,  0,  0,  0,  0,  0],\n",
       "       [ 0,  0,  1, 43,  0,  0,  0,  0,  0,  0],\n",
       "       [ 0,  0,  2,  0, 39,  1,  0,  0,  0,  0],\n",
       "       [ 0,  0,  0,  0,  0, 57,  0,  0,  0,  0],\n",
       "       [ 0,  0,  0,  0,  0,  0, 60,  0,  0,  0],\n",
       "       [ 0,  0,  0,  0,  0,  0,  0, 53,  0,  0],\n",
       "       [ 0,  0,  0,  0,  0,  0,  0,  0, 53,  0],\n",
       "       [ 0,  0,  0,  0,  0,  0,  0,  0,  0, 48]], dtype=int64)"
      ]
     },
     "execution_count": 65,
     "metadata": {},
     "output_type": "execute_result"
    }
   ],
   "source": [
    "y_pred = rfc.predict(x_test )\n",
    "y_true=y_test\n",
    "\n",
    "\n",
    "from sklearn.metrics import confusion_matrix\n",
    "cm=confusion_matrix(y_true,y_pred)\n",
    "cm"
   ]
  },
  {
   "cell_type": "code",
   "execution_count": 66,
   "metadata": {},
   "outputs": [
    {
     "data": {
      "image/png": "[encoded data removed]",
      "text/plain": [
       "<Figure size 500x500 with 2 Axes>"
      ]
     },
     "metadata": {},
     "output_type": "display_data"
    }
   ],
   "source": [
    "import seaborn as sns\n",
    "import matplotlib.pyplot as plt\n",
    "\n",
    "f, ax=plt.subplots(figsize=(5,5))\n",
    "sns.heatmap(cm,annot=True,linewidths=0.5,linecolor=\"red\",fmt=\".0f\",ax=ax)\n",
    "plt.xlabel(\"y_pred\")\n",
    "plt.ylabel(\"y_true\")\n",
    "plt.show()"
   ]
  },
  {
   "cell_type": "code",
   "execution_count": 67,
   "metadata": {},
   "outputs": [],
   "source": [
    "import pickle\n",
    "\n",
    "pickle.dump(rfc,open('co2_random.pkl','wb'))\n",
    "random = pickle.load(open('co2_random.pkl','rb'))"
   ]
  },
  {
   "cell_type": "code",
   "execution_count": 68,
   "metadata": {},
   "outputs": [
    {
     "data": {
      "text/html": [
       "<style>#sk-container-id-2 {color: black;background-color: white;}#sk-container-id-2 pre{padding: 0;}#sk-container-id-2 div.sk-toggleable {background-color: white;}#sk-container-id-2 label.sk-toggleable__label {cursor: pointer;display: block;width: 100%;margin-bottom: 0;padding: 0.3em;box-sizing: border-box;text-align: center;}#sk-container-id-2 label.sk-toggleable__label-arrow:before {content: \"▸\";float: left;margin-right: 0.25em;color: #696969;}#sk-container-id-2 label.sk-toggleable__label-arrow:hover:before {color: black;}#sk-container-id-2 div.sk-estimator:hover label.sk-toggleable__label-arrow:before {color: black;}#sk-container-id-2 div.sk-toggleable__content {max-height: 0;max-width: 0;overflow: hidden;text-align: left;background-color: #f0f8ff;}#sk-container-id-2 div.sk-toggleable__content pre {margin: 0.2em;color: black;border-radius: 0.25em;background-color: #f0f8ff;}#sk-container-id-2 input.sk-toggleable__control:checked~div.sk-toggleable__content {max-height: 200px;max-width: 100%;overflow: auto;}#sk-container-id-2 input.sk-toggleable__control:checked~label.sk-toggleable__label-arrow:before {content: \"▾\";}#sk-container-id-2 div.sk-estimator input.sk-toggleable__control:checked~label.sk-toggleable__label {background-color: #d4ebff;}#sk-container-id-2 div.sk-label input.sk-toggleable__control:checked~label.sk-toggleable__label {background-color: #d4ebff;}#sk-container-id-2 input.sk-hidden--visually {border: 0;clip: rect(1px 1px 1px 1px);clip: rect(1px, 1px, 1px, 1px);height: 1px;margin: -1px;overflow: hidden;padding: 0;position: absolute;width: 1px;}#sk-container-id-2 div.sk-estimator {font-family: monospace;background-color: #f0f8ff;border: 1px dotted black;border-radius: 0.25em;box-sizing: border-box;margin-bottom: 0.5em;}#sk-container-id-2 div.sk-estimator:hover {background-color: #d4ebff;}#sk-container-id-2 div.sk-parallel-item::after {content: \"\";width: 100%;border-bottom: 1px solid gray;flex-grow: 1;}#sk-container-id-2 div.sk-label:hover label.sk-toggleable__label {background-color: #d4ebff;}#sk-container-id-2 div.sk-serial::before {content: \"\";position: absolute;border-left: 1px solid gray;box-sizing: border-box;top: 0;bottom: 0;left: 50%;z-index: 0;}#sk-container-id-2 div.sk-serial {display: flex;flex-direction: column;align-items: center;background-color: white;padding-right: 0.2em;padding-left: 0.2em;position: relative;}#sk-container-id-2 div.sk-item {position: relative;z-index: 1;}#sk-container-id-2 div.sk-parallel {display: flex;align-items: stretch;justify-content: center;background-color: white;position: relative;}#sk-container-id-2 div.sk-item::before, #sk-container-id-2 div.sk-parallel-item::before {content: \"\";position: absolute;border-left: 1px solid gray;box-sizing: border-box;top: 0;bottom: 0;left: 50%;z-index: -1;}#sk-container-id-2 div.sk-parallel-item {display: flex;flex-direction: column;z-index: 1;position: relative;background-color: white;}#sk-container-id-2 div.sk-parallel-item:first-child::after {align-self: flex-end;width: 50%;}#sk-container-id-2 div.sk-parallel-item:last-child::after {align-self: flex-start;width: 50%;}#sk-container-id-2 div.sk-parallel-item:only-child::after {width: 0;}#sk-container-id-2 div.sk-dashed-wrapped {border: 1px dashed gray;margin: 0 0.4em 0.5em 0.4em;box-sizing: border-box;padding-bottom: 0.4em;background-color: white;}#sk-container-id-2 div.sk-label label {font-family: monospace;font-weight: bold;display: inline-block;line-height: 1.2em;}#sk-container-id-2 div.sk-label-container {text-align: center;}#sk-container-id-2 div.sk-container {/* jupyter's `normalize.less` sets `[hidden] { display: none; }` but bootstrap.min.css set `[hidden] { display: none !important; }` so we also need the `!important` here to be able to override the default hidden behavior on the sphinx rendered scikit-learn.org. See: https://github.com/scikit-learn/scikit-learn/issues/21755 */display: inline-block !important;position: relative;}#sk-container-id-2 div.sk-text-repr-fallback {display: none;}</style><div id=\"sk-container-id-2\" class=\"sk-top-container\"><div class=\"sk-text-repr-fallback\"><pre>DecisionTreeClassifier()</pre><b>In a Jupyter environment, please rerun this cell to show the HTML representation or trust the notebook. <br />On GitHub, the HTML representation is unable to render, please try loading this page with nbviewer.org.</b></div><div class=\"sk-container\" hidden><div class=\"sk-item\"><div class=\"sk-estimator sk-toggleable\"><input class=\"sk-toggleable__control sk-hidden--visually\" id=\"sk-estimator-id-2\" type=\"checkbox\" checked><label for=\"sk-estimator-id-2\" class=\"sk-toggleable__label sk-toggleable__label-arrow\">DecisionTreeClassifier</label><div class=\"sk-toggleable__content\"><pre>DecisionTreeClassifier()</pre></div></div></div></div></div>"
      ],
      "text/plain": [
       "DecisionTreeClassifier()"
      ]
     },
     "execution_count": 68,
     "metadata": {},
     "output_type": "execute_result"
    }
   ],
   "source": [
    "from sklearn.tree import DecisionTreeClassifier\n",
    "\n",
    "Model = DecisionTreeClassifier()\n",
    "\n",
    "Model.fit(x_train, y_train)"
   ]
  },
  {
   "cell_type": "code",
   "execution_count": 69,
   "metadata": {},
   "outputs": [
    {
     "data": {
      "text/plain": [
       "1.0"
      ]
     },
     "execution_count": 69,
     "metadata": {},
     "output_type": "execute_result"
    }
   ],
   "source": [
    "Model.score(x_train,y_train)"
   ]
  },
  {
   "cell_type": "code",
   "execution_count": 70,
   "metadata": {},
   "outputs": [
    {
     "data": {
      "text/plain": [
       "0.9887218045112782"
      ]
     },
     "execution_count": 70,
     "metadata": {},
     "output_type": "execute_result"
    }
   ],
   "source": [
    "from sklearn.metrics import accuracy_score\n",
    "y_pred = Model.predict(x_test )\n",
    "accuracy_score(y_pred,y_test) "
   ]
  },
  {
   "cell_type": "code",
   "execution_count": 71,
   "metadata": {},
   "outputs": [
    {
     "name": "stdout",
     "output_type": "stream",
     "text": [
      "              precision    recall  f1-score   support\n",
      "\n",
      "           1       1.00      1.00      1.00        58\n",
      "           2       1.00      1.00      1.00        58\n",
      "           3       0.98      0.98      0.98        59\n",
      "           4       0.95      0.95      0.95        44\n",
      "           5       0.98      0.95      0.96        42\n",
      "           6       0.97      1.00      0.98        57\n",
      "           7       1.00      0.98      0.99        60\n",
      "           8       1.00      1.00      1.00        53\n",
      "           9       1.00      1.00      1.00        53\n",
      "          10       1.00      1.00      1.00        48\n",
      "\n",
      "    accuracy                           0.99       532\n",
      "   macro avg       0.99      0.99      0.99       532\n",
      "weighted avg       0.99      0.99      0.99       532\n",
      "\n"
     ]
    }
   ],
   "source": [
    "print(sklearn.metrics.classification_report(y_test, y_pred))"
   ]
  },
  {
   "cell_type": "code",
   "execution_count": 72,
   "metadata": {},
   "outputs": [
    {
     "data": {
      "text/plain": [
       "array([[58,  0,  0,  0,  0,  0,  0,  0,  0,  0],\n",
       "       [ 0, 58,  0,  0,  0,  0,  0,  0,  0,  0],\n",
       "       [ 0,  0, 58,  1,  0,  0,  0,  0,  0,  0],\n",
       "       [ 0,  0,  1, 42,  1,  0,  0,  0,  0,  0],\n",
       "       [ 0,  0,  0,  1, 40,  1,  0,  0,  0,  0],\n",
       "       [ 0,  0,  0,  0,  0, 57,  0,  0,  0,  0],\n",
       "       [ 0,  0,  0,  0,  0,  1, 59,  0,  0,  0],\n",
       "       [ 0,  0,  0,  0,  0,  0,  0, 53,  0,  0],\n",
       "       [ 0,  0,  0,  0,  0,  0,  0,  0, 53,  0],\n",
       "       [ 0,  0,  0,  0,  0,  0,  0,  0,  0, 48]], dtype=int64)"
      ]
     },
     "execution_count": 72,
     "metadata": {},
     "output_type": "execute_result"
    }
   ],
   "source": [
    "y_pred = Model.predict(x_test )\n",
    "y_true=y_test\n",
    "\n",
    "\n",
    "from sklearn.metrics import confusion_matrix\n",
    "cm=confusion_matrix(y_true,y_pred)\n",
    "cm"
   ]
  },
  {
   "cell_type": "code",
   "execution_count": 73,
   "metadata": {},
   "outputs": [
    {
     "data": {
      "image/png": "[encoded data removed]",
      "text/plain": [
       "<Figure size 500x500 with 2 Axes>"
      ]
     },
     "metadata": {},
     "output_type": "display_data"
    }
   ],
   "source": [
    "import seaborn as sns\n",
    "import matplotlib.pyplot as plt\n",
    "\n",
    "f, ax=plt.subplots(figsize=(5,5))\n",
    "sns.heatmap(cm,annot=True,linewidths=0.5,linecolor=\"red\",fmt=\".0f\",ax=ax)\n",
    "plt.xlabel(\"y_pred\")\n",
    "plt.ylabel(\"y_true\")\n",
    "plt.show()"
   ]
  },
  {
   "cell_type": "code",
   "execution_count": 74,
   "metadata": {},
   "outputs": [],
   "source": [
    "import pickle\n",
    "\n",
    "pickle.dump(Model,open('co2_decision.pkl','wb'))\n",
    "decision = pickle.load(open('co2_decision.pkl','rb'))"
   ]
  },
  {
   "cell_type": "code",
   "execution_count": null,
   "metadata": {},
   "outputs": [],
   "source": []
  },
  {
   "cell_type": "code",
   "execution_count": null,
   "metadata": {},
   "outputs": [],
   "source": []
  }
 ],
 "metadata": {
  "kernelspec": {
   "display_name": "Python 3 (ipykernel)",
   "language": "python",
   "name": "python3"
  },
  "language_info": {
   "codemirror_mode": {
    "name": "ipython",
    "version": 3
   },
   "file_extension": ".py",
   "mimetype": "text/x-python",
   "name": "python",
   "nbconvert_exporter": "python",
   "pygments_lexer": "ipython3",
   "version": "3.10.9"
  }
 },
 "nbformat": 4,
 "nbformat_minor": 2
}
